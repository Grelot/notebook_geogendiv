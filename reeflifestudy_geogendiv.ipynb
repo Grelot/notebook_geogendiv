{
 "cells": [
  {
   "cell_type": "markdown",
   "metadata": {},
   "source": [
    "# Spacialized studies of genetic diversity among species\n",
    "\n",
    "We use [geogendivr](https://github.com/Grelot/geogendivr) and [geogendivrdata](https://github.com/Grelot/geogendivrdata) to perform this analysis."
   ]
  },
  {
   "cell_type": "markdown",
   "metadata": {},
   "source": [
    "# Install and load [geogendivr](https://github.com/Grelot/geogendivr)"
   ]
  },
  {
   "cell_type": "code",
   "execution_count": 3,
   "metadata": {},
   "outputs": [
    {
     "name": "stderr",
     "output_type": "stream",
     "text": [
      "Downloading GitHub repo grelot/geogendivr@master\n",
      "\n"
     ]
    },
    {
     "name": "stdout",
     "output_type": "stream",
     "text": [
      "dplyr        (0.8.3  -> 1.0.0   ) [CRAN]\n",
      "sf           (0.8-0  -> 0.9-5   ) [CRAN]\n",
      "tidyverse    (1.2.1  -> 1.3.0   ) [CRAN]\n",
      "future.apply (NA     -> 1.6.0   ) [CRAN]\n",
      "rfishbase    (NA     -> 3.0.4   ) [CRAN]\n",
      "vctrs        (0.3.1  -> 0.3.2   ) [CRAN]\n",
      "Rcpp         (1.0.1  -> 1.0.5   ) [CRAN]\n",
      "stringi      (1.4.5  -> 1.4.6   ) [CRAN]\n",
      "isoband      (NA     -> 0.2.2   ) [CRAN]\n",
      "BH           (NA     -> 1.72.0-3) [CRAN]\n",
      "globals      (NA     -> 0.12.5  ) [CRAN]\n",
      "listenv      (NA     -> 0.8.0   ) [CRAN]\n",
      "S4Vectors    (0.24.0 -> 0.24.4  ) [CRAN]\n",
      "IRanges      (2.20.0 -> 2.20.2  ) [CRAN]\n",
      "ggplot2      (3.1.1  -> 3.3.2   ) [CRAN]\n",
      "classInt     (0.4-1  -> 0.4-3   ) [CRAN]\n",
      "future       (NA     -> 1.18.0  ) [CRAN]\n"
     ]
    },
    {
     "name": "stderr",
     "output_type": "stream",
     "text": [
      "Installing 17 packages: dplyr, sf, tidyverse, future.apply, rfishbase, vctrs, Rcpp, stringi, isoband, BH, globals, listenv, S4Vectors, IRanges, ggplot2, classInt, future\n",
      "\n",
      "Updating HTML index of packages in '.Library'\n",
      "\n",
      "Making 'packages.html' ...\n",
      " done\n",
      "\n"
     ]
    },
    {
     "name": "stdout",
     "output_type": "stream",
     "text": [
      "\u001b[32m✔\u001b[39m  \u001b[38;5;247mchecking for file ‘/tmp/RtmpOH7vRU/remotesd03a1f6eb4f7/Grelot-geogendivr-d813d6f/DESCRIPTION’\u001b[39m\u001b[36m\u001b[39m\n",
      "\u001b[38;5;247m─\u001b[39m\u001b[38;5;247m  \u001b[39m\u001b[38;5;247mpreparing ‘geogendivr’:\u001b[39m\u001b[36m\u001b[39m\n",
      "\u001b[32m✔\u001b[39m  \u001b[38;5;247mchecking DESCRIPTION meta-information\u001b[39m\u001b[36m\u001b[39m\n",
      "\u001b[38;5;247m─\u001b[39m\u001b[38;5;247m  \u001b[39m\u001b[38;5;247mchecking for LF line-endings in source and make files and shell scripts\u001b[39m\u001b[36m\u001b[39m\n",
      "\u001b[38;5;247m─\u001b[39m\u001b[38;5;247m  \u001b[39m\u001b[38;5;247mchecking for empty or unneeded directories\u001b[39m\u001b[36m\u001b[39m\n",
      "\u001b[38;5;247m─\u001b[39m\u001b[38;5;247m  \u001b[39m\u001b[38;5;247mlooking to see if a ‘data/datalist’ file should be added\u001b[39m\u001b[36m\u001b[39m\n",
      "     NB: this package now depends on R (>= 3.5.0)\n",
      "     WARNING: Added dependency on R >= 3.5.0 because serialized objects in  serialize/load version 3 cannot be read in older versions of R.  File(s) containing such objects:  'geogendivr/data/reefishSurveyEnvSocio.rda'  WARNING: Added dependency on R >= 3.5.0 because serialized objects in  serialize/load version 3 cannot be read in older versions of R.  File(s) containing such objects:  'geogendivr/data/reefishSurveySpecies.rda'  WARNING: Added dependency on R >= 3.5.0 because serialized objects in  serialize/load version 3 cannot be read in older versions of R.  File(s) containing such objects:  'geogendivr/data/requestPomacanthidaeBOLD.rda'\n",
      "\u001b[38;5;247m─\u001b[39m\u001b[38;5;247m  \u001b[39m\u001b[38;5;247mbuilding 'geogendivr_0.0.0.9000.tar.gz'\u001b[39m\u001b[36m\u001b[39m\n",
      "   \n",
      "\r"
     ]
    }
   ],
   "source": [
    "## install last version of geogendivr package\n",
    "devtools::install_github(\"grelot/geogendivr\", force = TRUE)"
   ]
  },
  {
   "cell_type": "code",
   "execution_count": 11,
   "metadata": {},
   "outputs": [
    {
     "name": "stderr",
     "output_type": "stream",
     "text": [
      "Loading required package: tidyverse\n",
      "\n",
      "── \u001b[1mAttaching packages\u001b[22m ─────────────────────────────────────── tidyverse 1.3.0 ──\n",
      "\n",
      "\u001b[32m✔\u001b[39m \u001b[34mggplot2\u001b[39m 3.3.2     \u001b[32m✔\u001b[39m \u001b[34mpurrr  \u001b[39m 0.3.4\n",
      "\u001b[32m✔\u001b[39m \u001b[34mtibble \u001b[39m 3.0.3     \u001b[32m✔\u001b[39m \u001b[34mdplyr  \u001b[39m 1.0.0\n",
      "\u001b[32m✔\u001b[39m \u001b[34mtidyr  \u001b[39m 1.1.0     \u001b[32m✔\u001b[39m \u001b[34mstringr\u001b[39m 1.4.0\n",
      "\u001b[32m✔\u001b[39m \u001b[34mreadr  \u001b[39m 1.3.1     \u001b[32m✔\u001b[39m \u001b[34mforcats\u001b[39m 0.5.0\n",
      "\n",
      "── \u001b[1mConflicts\u001b[22m ────────────────────────────────────────── tidyverse_conflicts() ──\n",
      "\u001b[31m✖\u001b[39m \u001b[34mdplyr\u001b[39m::\u001b[32mfilter()\u001b[39m masks \u001b[34mstats\u001b[39m::filter()\n",
      "\u001b[31m✖\u001b[39m \u001b[34mdplyr\u001b[39m::\u001b[32mlag()\u001b[39m    masks \u001b[34mstats\u001b[39m::lag()\n",
      "\n",
      "Loading required package: rfishbase\n",
      "\n"
     ]
    }
   ],
   "source": [
    "## load geogendivr package and dependencies\n",
    "library(geogendivr)\n",
    "require(tidyverse)\n",
    "require(rfishbase)"
   ]
  },
  {
   "cell_type": "markdown",
   "metadata": {},
   "source": [
    "# BOLD dataset\n",
    "\n",
    "[BOLD](http://www.boldsystems.org/) (*Barcode Of Life Database*) is a database of Barcode DNA sequences of georeferenced specimen that closely approximate species.\n",
    "\n",
    "*geogendivr* provides a sample of a BOLD request for the taxon \"Pomacanthidae\" as a dataset. We use this dataset as an example to test functions of the package *geogendivr*.\n",
    "\n",
    "First we need to load the `resBold` dataset."
   ]
  },
  {
   "cell_type": "code",
   "execution_count": 12,
   "metadata": {},
   "outputs": [],
   "source": [
    "##taxonRequest <- \"Actinopterygii\"\n",
    "##resBold <- bold_seqspec(taxon=taxonRequest, sepfasta=TRUE)\n",
    "## load taxon request \"Pomacanthidae\" sample from BOLD\n",
    "data(requestPomacanthidaeBOLD)"
   ]
  },
  {
   "cell_type": "markdown",
   "metadata": {},
   "source": [
    "`resBold` is a list of objects returned by bold_seqspec command from bold package. They are 2 objects: \n",
    "\n",
    "* dataframe of specimen information (spatial coordinates, taxonomy...)\n",
    "* list of DNA barcode sequences.\n",
    "\n",
    "Each row is related to an individual sequences. They are 725 published records, with 725 records with sequences, forming 71 BINs (clusters), with specimens from 46 countries, deposited in 27 institutions.\n",
    "\n",
    "So let's check first the specimen information dataframe:"
   ]
  },
  {
   "cell_type": "code",
   "execution_count": 13,
   "metadata": {},
   "outputs": [
    {
     "data": {
      "text/html": [
       "<table>\n",
       "<caption>A data.frame: 6 × 79</caption>\n",
       "<thead>\n",
       "\t<tr><th></th><th scope=col>processid</th><th scope=col>sampleid</th><th scope=col>recordID</th><th scope=col>catalognum</th><th scope=col>fieldnum</th><th scope=col>institution_storing</th><th scope=col>collection_code</th><th scope=col>bin_uri</th><th scope=col>phylum_taxID</th><th scope=col>phylum_name</th><th scope=col>⋯</th><th scope=col>markercode</th><th scope=col>genbank_accession</th><th scope=col>trace_ids</th><th scope=col>trace_names</th><th scope=col>trace_links</th><th scope=col>run_dates</th><th scope=col>sequencing_centers</th><th scope=col>directions</th><th scope=col>seq_primers</th><th scope=col>marker_codes</th></tr>\n",
       "\t<tr><th></th><th scope=col>&lt;chr&gt;</th><th scope=col>&lt;chr&gt;</th><th scope=col>&lt;int&gt;</th><th scope=col>&lt;chr&gt;</th><th scope=col>&lt;chr&gt;</th><th scope=col>&lt;chr&gt;</th><th scope=col>&lt;lgl&gt;</th><th scope=col>&lt;chr&gt;</th><th scope=col>&lt;int&gt;</th><th scope=col>&lt;chr&gt;</th><th scope=col>⋯</th><th scope=col>&lt;chr&gt;</th><th scope=col>&lt;chr&gt;</th><th scope=col>&lt;chr&gt;</th><th scope=col>&lt;chr&gt;</th><th scope=col>&lt;chr&gt;</th><th scope=col>&lt;chr&gt;</th><th scope=col>&lt;chr&gt;</th><th scope=col>&lt;chr&gt;</th><th scope=col>&lt;chr&gt;</th><th scope=col>&lt;chr&gt;</th></tr>\n",
       "</thead>\n",
       "<tbody>\n",
       "\t<tr><th scope=row>1</th><td>ANGBF28997-19</td><td>KJ148915</td><td>10127355</td><td></td><td>KJ148915</td><td>Mined from GenBank, NCBI</td><td>NA</td><td>BOLD:ADW7663</td><td>18</td><td>Chordata</td><td>⋯</td><td>COI-5P</td><td>KJ148915</td><td></td><td></td><td></td><td></td><td></td><td></td><td></td><td></td></tr>\n",
       "\t<tr><th scope=row>2</th><td>ANGBF29002-19</td><td>KJ148927</td><td>10127360</td><td></td><td>KJ148927</td><td>Mined from GenBank, NCBI</td><td>NA</td><td>BOLD:ADW2236</td><td>18</td><td>Chordata</td><td>⋯</td><td>COI-5P</td><td>KJ148927</td><td></td><td></td><td></td><td></td><td></td><td></td><td></td><td></td></tr>\n",
       "\t<tr><th scope=row>3</th><td>ANGBF29009-19</td><td>KJ148963</td><td>10127367</td><td></td><td>KJ148963</td><td>Mined from GenBank, NCBI</td><td>NA</td><td>BOLD:ADW5644</td><td>18</td><td>Chordata</td><td>⋯</td><td>COI-5P</td><td>KJ148963</td><td></td><td></td><td></td><td></td><td></td><td></td><td></td><td></td></tr>\n",
       "\t<tr><th scope=row>4</th><td>ANGBF39433-19</td><td>KJ148891</td><td>10137791</td><td></td><td>        </td><td>Mined from GenBank, NCBI</td><td>NA</td><td>BOLD:AAD1935</td><td>18</td><td>Chordata</td><td>⋯</td><td>COI-5P</td><td>KJ148891</td><td></td><td></td><td></td><td></td><td></td><td></td><td></td><td></td></tr>\n",
       "\t<tr><th scope=row>5</th><td>ANGBF39436-19</td><td>KJ148894</td><td>10137794</td><td></td><td>        </td><td>Mined from GenBank, NCBI</td><td>NA</td><td>BOLD:ACC1023</td><td>18</td><td>Chordata</td><td>⋯</td><td>COI-5P</td><td>KJ148894</td><td></td><td></td><td></td><td></td><td></td><td></td><td></td><td></td></tr>\n",
       "\t<tr><th scope=row>6</th><td>ANGBF39444-19</td><td>KJ148907</td><td>10137802</td><td></td><td>        </td><td>Mined from GenBank, NCBI</td><td>NA</td><td>BOLD:AAC0137</td><td>18</td><td>Chordata</td><td>⋯</td><td>COI-5P</td><td>KJ148907</td><td></td><td></td><td></td><td></td><td></td><td></td><td></td><td></td></tr>\n",
       "</tbody>\n",
       "</table>\n"
      ],
      "text/latex": [
       "A data.frame: 6 × 79\n",
       "\\begin{tabular}{r|lllllllllllllllllllll}\n",
       "  & processid & sampleid & recordID & catalognum & fieldnum & institution\\_storing & collection\\_code & bin\\_uri & phylum\\_taxID & phylum\\_name & ⋯ & markercode & genbank\\_accession & trace\\_ids & trace\\_names & trace\\_links & run\\_dates & sequencing\\_centers & directions & seq\\_primers & marker\\_codes\\\\\n",
       "  & <chr> & <chr> & <int> & <chr> & <chr> & <chr> & <lgl> & <chr> & <int> & <chr> & ⋯ & <chr> & <chr> & <chr> & <chr> & <chr> & <chr> & <chr> & <chr> & <chr> & <chr>\\\\\n",
       "\\hline\n",
       "\t1 & ANGBF28997-19 & KJ148915 & 10127355 &  & KJ148915 & Mined from GenBank, NCBI & NA & BOLD:ADW7663 & 18 & Chordata & ⋯ & COI-5P & KJ148915 &  &  &  &  &  &  &  & \\\\\n",
       "\t2 & ANGBF29002-19 & KJ148927 & 10127360 &  & KJ148927 & Mined from GenBank, NCBI & NA & BOLD:ADW2236 & 18 & Chordata & ⋯ & COI-5P & KJ148927 &  &  &  &  &  &  &  & \\\\\n",
       "\t3 & ANGBF29009-19 & KJ148963 & 10127367 &  & KJ148963 & Mined from GenBank, NCBI & NA & BOLD:ADW5644 & 18 & Chordata & ⋯ & COI-5P & KJ148963 &  &  &  &  &  &  &  & \\\\\n",
       "\t4 & ANGBF39433-19 & KJ148891 & 10137791 &  &          & Mined from GenBank, NCBI & NA & BOLD:AAD1935 & 18 & Chordata & ⋯ & COI-5P & KJ148891 &  &  &  &  &  &  &  & \\\\\n",
       "\t5 & ANGBF39436-19 & KJ148894 & 10137794 &  &          & Mined from GenBank, NCBI & NA & BOLD:ACC1023 & 18 & Chordata & ⋯ & COI-5P & KJ148894 &  &  &  &  &  &  &  & \\\\\n",
       "\t6 & ANGBF39444-19 & KJ148907 & 10137802 &  &          & Mined from GenBank, NCBI & NA & BOLD:AAC0137 & 18 & Chordata & ⋯ & COI-5P & KJ148907 &  &  &  &  &  &  &  & \\\\\n",
       "\\end{tabular}\n"
      ],
      "text/markdown": [
       "\n",
       "A data.frame: 6 × 79\n",
       "\n",
       "| <!--/--> | processid &lt;chr&gt; | sampleid &lt;chr&gt; | recordID &lt;int&gt; | catalognum &lt;chr&gt; | fieldnum &lt;chr&gt; | institution_storing &lt;chr&gt; | collection_code &lt;lgl&gt; | bin_uri &lt;chr&gt; | phylum_taxID &lt;int&gt; | phylum_name &lt;chr&gt; | ⋯ ⋯ | markercode &lt;chr&gt; | genbank_accession &lt;chr&gt; | trace_ids &lt;chr&gt; | trace_names &lt;chr&gt; | trace_links &lt;chr&gt; | run_dates &lt;chr&gt; | sequencing_centers &lt;chr&gt; | directions &lt;chr&gt; | seq_primers &lt;chr&gt; | marker_codes &lt;chr&gt; |\n",
       "|---|---|---|---|---|---|---|---|---|---|---|---|---|---|---|---|---|---|---|---|---|---|\n",
       "| 1 | ANGBF28997-19 | KJ148915 | 10127355 | <!----> | KJ148915 | Mined from GenBank, NCBI | NA | BOLD:ADW7663 | 18 | Chordata | ⋯ | COI-5P | KJ148915 | <!----> | <!----> | <!----> | <!----> | <!----> | <!----> | <!----> | <!----> |\n",
       "| 2 | ANGBF29002-19 | KJ148927 | 10127360 | <!----> | KJ148927 | Mined from GenBank, NCBI | NA | BOLD:ADW2236 | 18 | Chordata | ⋯ | COI-5P | KJ148927 | <!----> | <!----> | <!----> | <!----> | <!----> | <!----> | <!----> | <!----> |\n",
       "| 3 | ANGBF29009-19 | KJ148963 | 10127367 | <!----> | KJ148963 | Mined from GenBank, NCBI | NA | BOLD:ADW5644 | 18 | Chordata | ⋯ | COI-5P | KJ148963 | <!----> | <!----> | <!----> | <!----> | <!----> | <!----> | <!----> | <!----> |\n",
       "| 4 | ANGBF39433-19 | KJ148891 | 10137791 | <!----> | <!----> | Mined from GenBank, NCBI | NA | BOLD:AAD1935 | 18 | Chordata | ⋯ | COI-5P | KJ148891 | <!----> | <!----> | <!----> | <!----> | <!----> | <!----> | <!----> | <!----> |\n",
       "| 5 | ANGBF39436-19 | KJ148894 | 10137794 | <!----> | <!----> | Mined from GenBank, NCBI | NA | BOLD:ACC1023 | 18 | Chordata | ⋯ | COI-5P | KJ148894 | <!----> | <!----> | <!----> | <!----> | <!----> | <!----> | <!----> | <!----> |\n",
       "| 6 | ANGBF39444-19 | KJ148907 | 10137802 | <!----> | <!----> | Mined from GenBank, NCBI | NA | BOLD:AAC0137 | 18 | Chordata | ⋯ | COI-5P | KJ148907 | <!----> | <!----> | <!----> | <!----> | <!----> | <!----> | <!----> | <!----> |\n",
       "\n"
      ],
      "text/plain": [
       "  processid     sampleid recordID catalognum fieldnum institution_storing     \n",
       "1 ANGBF28997-19 KJ148915 10127355            KJ148915 Mined from GenBank, NCBI\n",
       "2 ANGBF29002-19 KJ148927 10127360            KJ148927 Mined from GenBank, NCBI\n",
       "3 ANGBF29009-19 KJ148963 10127367            KJ148963 Mined from GenBank, NCBI\n",
       "4 ANGBF39433-19 KJ148891 10137791                     Mined from GenBank, NCBI\n",
       "5 ANGBF39436-19 KJ148894 10137794                     Mined from GenBank, NCBI\n",
       "6 ANGBF39444-19 KJ148907 10137802                     Mined from GenBank, NCBI\n",
       "  collection_code bin_uri      phylum_taxID phylum_name ⋯ markercode\n",
       "1 NA              BOLD:ADW7663 18           Chordata    ⋯ COI-5P    \n",
       "2 NA              BOLD:ADW2236 18           Chordata    ⋯ COI-5P    \n",
       "3 NA              BOLD:ADW5644 18           Chordata    ⋯ COI-5P    \n",
       "4 NA              BOLD:AAD1935 18           Chordata    ⋯ COI-5P    \n",
       "5 NA              BOLD:ACC1023 18           Chordata    ⋯ COI-5P    \n",
       "6 NA              BOLD:AAC0137 18           Chordata    ⋯ COI-5P    \n",
       "  genbank_accession trace_ids trace_names trace_links run_dates\n",
       "1 KJ148915                                                     \n",
       "2 KJ148927                                                     \n",
       "3 KJ148963                                                     \n",
       "4 KJ148891                                                     \n",
       "5 KJ148894                                                     \n",
       "6 KJ148907                                                     \n",
       "  sequencing_centers directions seq_primers marker_codes\n",
       "1                                                       \n",
       "2                                                       \n",
       "3                                                       \n",
       "4                                                       \n",
       "5                                                       \n",
       "6                                                       "
      ]
     },
     "metadata": {},
     "output_type": "display_data"
    }
   ],
   "source": [
    "## display the dataframe of specimen information (80 fields) \n",
    "head(resBold$data)"
   ]
  },
  {
   "cell_type": "markdown",
   "metadata": {},
   "source": [
    "Second, we want to see the list of DNA barcode sequences for each individual:"
   ]
  },
  {
   "cell_type": "code",
   "execution_count": 14,
   "metadata": {},
   "outputs": [
    {
     "data": {
      "text/html": [
       "<dl>\n",
       "\t<dt>$`ANGBF28997-19`</dt>\n",
       "\t\t<dd>'GAACAGCTTTAAGCCTGCTAATTCGAGCAGAACTAAACCAACCAGGCAGCCTCCTAGGGGACGACCAAATTTACAATGTTATTGTTACAGCACATGCATTTGTAATAATTTTCTTTATAGTAATACCAGCTATAATCGGAGGATTCGGAAACTGATTAATCCCATTAATAATTGGGGCCCCCGACATGGCATTCCCCCGAATAAATAACATAAGCTTCTGACTCCTACCCCCCTCTCTCCTCCTCCTCTTAGCCTCTGCTGGAGTAGAGGCCGGGGCCGGCACTGGATGAACAGTCTACCCGCCCCTCGCCGGCAACTTAGCCCATGCAGGAGCATCAGTAGATTTAACCATCTTCTCCCTACATTTAGCAGGGGTCTCCTCAATTCTAGGAGCTATTAATTTTATCACCACCATCATTAACATGAAACCTCCCGCCATCTCTCAGTACCAGACACCACTATTTGTCTGAGCCGTACTAATTACCGCAGTTCTACTTCTCCTCTCCCTTCCAGTCCTTGCTGCGGGAATTACGATACTCCTAACAGACCGAAACCTAAATACTACCTTCTTTGACCCTGCAGGAGGGGGAGACCCAATTCTTTACCAACACTTA'</dd>\n",
       "\t<dt>$`ANGBF29002-19`</dt>\n",
       "\t\t<dd>'GAACCGCCCTAAGCCTTCTTATTCGAGCAGAACTAAATCAACCAGGCAGCCTTTTAGGGGATGACCAAATTTATAATGTAATCGTAACAGCACACGCATTTGTAATAATCTTCTTTATAGTTATACCAGCTATAATTGGAGGATTTGGCAACTGACTAATTCCCCTAATAATTGGAGCCCCGGATATGGCATTCCCCCGAATAAACAACATGAGCTTTTGACTCCTGCCTCCCTCCCTTCTGCTCCTCCTCGCCTCTGCGGGCGTAGAAGCGGGGGCCGGAACTGGCTGAACAGTCTACCCCCCGCTAGCCGGCAATCTGGCCCATGCAGGGGCATCTGTAGACTTAACTATTTTCTCCCTCCATCTAGCAGGGGTCTCCTCAATTTTAGGGGCTATTAATTTTATTACCACCATTATCAATATGAAGCCCCCTGCCATCTCACAGTATCAAACACCACTGTTCGTTTGAGCAGTACTAATCACCGCCGTCCTTTTACTTCTTTCTCTTCCTGTTCTTGCAGCTGGGATTACAATACTCCTTACAGACCGGAACCTAAACACCACCTTCTTTGACCCTGCAGGAGGGGGGGACCCGATCCTCTACCAACACCTA'</dd>\n",
       "\t<dt>$`ANGBF29009-19`</dt>\n",
       "\t\t<dd>'GAACAGCTTTAAGCCTACTAATTCGAGCAGAACTAAACCAACCAGGCAGCCTCCTCGGGGACGACCAAATCTATAATGTTATCGTTACAGCACATGCATTCGTAATAATTTTCTTCATAGTCATGCCAGCTATAATCGGAGGATTTGGTAACTGACTAATCCCGCTAATAATTGGAGCCCCTGACATAGCATTCCCCCGAATAAACAACATGAGCTTCTGGCTCTTACCCCCCTCCCTTCTCCTCCTCCTGGCCTCGGCCGGAGTAGAGGCTGGGGCAGGTACCGGATGAACAGTCTACCCGCCTCTAGCGGGCAACTTAGCCCACGCAGGCGCATCAGTAGATTTAACCATTTTCTCCCTTCATTTAGCAGGGGTTTCCTCAATTCTAGGGGCTATTAATTTTATTACCACTATTATTAACATGAAACCTCCCGCCATCTCCCAGTACCAGACACCACTGTTTGTCTGAGCAGTACTAATTACTGCAGTCCTACTCCTTCTTTCACTACCCGTCCTTGCTGCAGGAATTACTATACTCCTGACAGACCGGAACCTAAATACTACCTTTTTTGACCCTGCAGGAGGGGGAGACCCAATTCTTTACCAACACTTA'</dd>\n",
       "\t<dt>$`ANGBF39433-19`</dt>\n",
       "\t\t<dd>'GTACAGCTTTAAGCCTACTAATTCGAGCTGAACTAAATCAGCCAGGCAGCCTCCTTGGGGACGACCAAATCTACAATGTTATCGTCACAGCACATGCATTTGTAATAATTTTTTTTATAGTAATACCAGCTATAATTGGAGGATTTGGAAACTGACTAGTTCCCCTAATAATTGGGGCCCCTGACATAGCATTCCCCCGAATGAATAACATAAGCTTCTGACTCCTTCCGCCTTCCCTCCTACTCCTCCTAGCTTCTGCTGGAGTAGAAGCCGGGGCCGGAACCGGATGAACAGTATACCCCCCTCTAGCTGGCAACTTGGCCCATGCAGGCGCATCAGTAGACCTGACCATCTTCTCCCTTCATTTAGCGGGAGTTTCCTCAATTCTAGGGGCCATTAATTTTATCACCACTATTATTAACATGAAACCCCCTGCTATCTCTCAGTATCAAACACCACTATTCGTCTGAGCAGTATTAATTACCGCAGTCCTACTACTTCTTTCCCTCCCAGTCCTTGCTGCAGGAATTACAATGCTCCTTACGGACCGAAACCTAAATACCACCTTCTTTGACCCTGCAGGAGGAGGAGACCCAATTCTTTACCAACACTTA'</dd>\n",
       "\t<dt>$`ANGBF39436-19`</dt>\n",
       "\t\t<dd>'GGACGGCTTTAAGCCTGCTTATCCGAGCTGAACTTAATCAGCCCGGCAGCCTCCTTGGAGACGACCAGATTTATAATGTTATCGTAACAGCACATGCGTTTGTAATAATCTTCTTTATGGTAATACCAGCCATAATCGGAGGATTTGGAAACTGATTAATTCCACTAATGATTGGGGCACCAGATATGGCGTTCCCTCGAATGAATAACATGAGCTTTTGACTCCTTCCTCCCTCCCTCCTCCTTCTCTTAGCTTCTGCTGGCGTAGAAGCCGGGGCCGGTACTGGATGAACAGTGTATCCCCCACTAGCCGGCAACTTAGCTCACGCAGGAGCATCCGTAGACCTGACCATCTTCTCCCTCCACTTAGCAGGGGTCTCCTCAATTCTAGGGGCTATTAATTTCATTACTACAATTATTAATATGAAACCCCCCGCTATTTCCCAGTACCAAACACCTTTATTTGTTTGAGCAGTCCTGATTACCGCAGTTCTACTACTCCTTTCCCTCCCAGTCCTTGCTGCAGGTATTACAATGCTTCTTACAGACCGAAACCTCAACACTACCTTTTTTGACCCCGCAGGTGGAGGAGACCCAATTCTTTACCAACATCTG'</dd>\n",
       "\t<dt>$`ANGBF39444-19`</dt>\n",
       "\t\t<dd>'GAACCGCTCTAAGCCTACTTATTCGAGCAGAACTCAATCAGCCAGGAAGCCTCCTAGGAGACGACCAGATTTATAATGTAATCGTAACAGCACATGCATTTGTTATAATCTTCTTTATAGTTATACCCGCTATGATTGGAGGATTCGGAAACTGACTGATCCCTCTGATGATCGGAGCTCCCGATATAGCATTTCCACGAATAAACAACATAAGCTTCTGACTCCTCCCCCCTTCCCTTCTGCTTCTCCTCGCTTCTGCAGGTGTAGAAGCTGGGGCCGGAACTGGCTGAACAGTTTATCCCCCTCTAGCCGGCAATCTCGCCCATGCGGGGGCATCCGTGGATCTAACTATTTTTTCCCTTCATCTAGCAGGGATCTCCTCAATTTTAGGAGCTATTAACTTTATTACCACCATCATCAACATAAAACCCCCAGCCATTTCCCAATACCAAACACCACTCTTCGTTTGGGCAGTACTAATTACTGCTGTCCTCCTGCTCCTCTCCCTTCCGGTCCTTGCTGCTGGGATTACAATACTCCTTACAGACCGAAATCTAAACACCACCTTCTTTGACCCCGCAGGAGGAGGGGACCCAATTCTCTATCAACACCTA'</dd>\n",
       "</dl>\n"
      ],
      "text/latex": [
       "\\begin{description}\n",
       "\\item[\\$`ANGBF28997-19`] 'GAACAGCTTTAAGCCTGCTAATTCGAGCAGAACTAAACCAACCAGGCAGCCTCCTAGGGGACGACCAAATTTACAATGTTATTGTTACAGCACATGCATTTGTAATAATTTTCTTTATAGTAATACCAGCTATAATCGGAGGATTCGGAAACTGATTAATCCCATTAATAATTGGGGCCCCCGACATGGCATTCCCCCGAATAAATAACATAAGCTTCTGACTCCTACCCCCCTCTCTCCTCCTCCTCTTAGCCTCTGCTGGAGTAGAGGCCGGGGCCGGCACTGGATGAACAGTCTACCCGCCCCTCGCCGGCAACTTAGCCCATGCAGGAGCATCAGTAGATTTAACCATCTTCTCCCTACATTTAGCAGGGGTCTCCTCAATTCTAGGAGCTATTAATTTTATCACCACCATCATTAACATGAAACCTCCCGCCATCTCTCAGTACCAGACACCACTATTTGTCTGAGCCGTACTAATTACCGCAGTTCTACTTCTCCTCTCCCTTCCAGTCCTTGCTGCGGGAATTACGATACTCCTAACAGACCGAAACCTAAATACTACCTTCTTTGACCCTGCAGGAGGGGGAGACCCAATTCTTTACCAACACTTA'\n",
       "\\item[\\$`ANGBF29002-19`] 'GAACCGCCCTAAGCCTTCTTATTCGAGCAGAACTAAATCAACCAGGCAGCCTTTTAGGGGATGACCAAATTTATAATGTAATCGTAACAGCACACGCATTTGTAATAATCTTCTTTATAGTTATACCAGCTATAATTGGAGGATTTGGCAACTGACTAATTCCCCTAATAATTGGAGCCCCGGATATGGCATTCCCCCGAATAAACAACATGAGCTTTTGACTCCTGCCTCCCTCCCTTCTGCTCCTCCTCGCCTCTGCGGGCGTAGAAGCGGGGGCCGGAACTGGCTGAACAGTCTACCCCCCGCTAGCCGGCAATCTGGCCCATGCAGGGGCATCTGTAGACTTAACTATTTTCTCCCTCCATCTAGCAGGGGTCTCCTCAATTTTAGGGGCTATTAATTTTATTACCACCATTATCAATATGAAGCCCCCTGCCATCTCACAGTATCAAACACCACTGTTCGTTTGAGCAGTACTAATCACCGCCGTCCTTTTACTTCTTTCTCTTCCTGTTCTTGCAGCTGGGATTACAATACTCCTTACAGACCGGAACCTAAACACCACCTTCTTTGACCCTGCAGGAGGGGGGGACCCGATCCTCTACCAACACCTA'\n",
       "\\item[\\$`ANGBF29009-19`] 'GAACAGCTTTAAGCCTACTAATTCGAGCAGAACTAAACCAACCAGGCAGCCTCCTCGGGGACGACCAAATCTATAATGTTATCGTTACAGCACATGCATTCGTAATAATTTTCTTCATAGTCATGCCAGCTATAATCGGAGGATTTGGTAACTGACTAATCCCGCTAATAATTGGAGCCCCTGACATAGCATTCCCCCGAATAAACAACATGAGCTTCTGGCTCTTACCCCCCTCCCTTCTCCTCCTCCTGGCCTCGGCCGGAGTAGAGGCTGGGGCAGGTACCGGATGAACAGTCTACCCGCCTCTAGCGGGCAACTTAGCCCACGCAGGCGCATCAGTAGATTTAACCATTTTCTCCCTTCATTTAGCAGGGGTTTCCTCAATTCTAGGGGCTATTAATTTTATTACCACTATTATTAACATGAAACCTCCCGCCATCTCCCAGTACCAGACACCACTGTTTGTCTGAGCAGTACTAATTACTGCAGTCCTACTCCTTCTTTCACTACCCGTCCTTGCTGCAGGAATTACTATACTCCTGACAGACCGGAACCTAAATACTACCTTTTTTGACCCTGCAGGAGGGGGAGACCCAATTCTTTACCAACACTTA'\n",
       "\\item[\\$`ANGBF39433-19`] 'GTACAGCTTTAAGCCTACTAATTCGAGCTGAACTAAATCAGCCAGGCAGCCTCCTTGGGGACGACCAAATCTACAATGTTATCGTCACAGCACATGCATTTGTAATAATTTTTTTTATAGTAATACCAGCTATAATTGGAGGATTTGGAAACTGACTAGTTCCCCTAATAATTGGGGCCCCTGACATAGCATTCCCCCGAATGAATAACATAAGCTTCTGACTCCTTCCGCCTTCCCTCCTACTCCTCCTAGCTTCTGCTGGAGTAGAAGCCGGGGCCGGAACCGGATGAACAGTATACCCCCCTCTAGCTGGCAACTTGGCCCATGCAGGCGCATCAGTAGACCTGACCATCTTCTCCCTTCATTTAGCGGGAGTTTCCTCAATTCTAGGGGCCATTAATTTTATCACCACTATTATTAACATGAAACCCCCTGCTATCTCTCAGTATCAAACACCACTATTCGTCTGAGCAGTATTAATTACCGCAGTCCTACTACTTCTTTCCCTCCCAGTCCTTGCTGCAGGAATTACAATGCTCCTTACGGACCGAAACCTAAATACCACCTTCTTTGACCCTGCAGGAGGAGGAGACCCAATTCTTTACCAACACTTA'\n",
       "\\item[\\$`ANGBF39436-19`] 'GGACGGCTTTAAGCCTGCTTATCCGAGCTGAACTTAATCAGCCCGGCAGCCTCCTTGGAGACGACCAGATTTATAATGTTATCGTAACAGCACATGCGTTTGTAATAATCTTCTTTATGGTAATACCAGCCATAATCGGAGGATTTGGAAACTGATTAATTCCACTAATGATTGGGGCACCAGATATGGCGTTCCCTCGAATGAATAACATGAGCTTTTGACTCCTTCCTCCCTCCCTCCTCCTTCTCTTAGCTTCTGCTGGCGTAGAAGCCGGGGCCGGTACTGGATGAACAGTGTATCCCCCACTAGCCGGCAACTTAGCTCACGCAGGAGCATCCGTAGACCTGACCATCTTCTCCCTCCACTTAGCAGGGGTCTCCTCAATTCTAGGGGCTATTAATTTCATTACTACAATTATTAATATGAAACCCCCCGCTATTTCCCAGTACCAAACACCTTTATTTGTTTGAGCAGTCCTGATTACCGCAGTTCTACTACTCCTTTCCCTCCCAGTCCTTGCTGCAGGTATTACAATGCTTCTTACAGACCGAAACCTCAACACTACCTTTTTTGACCCCGCAGGTGGAGGAGACCCAATTCTTTACCAACATCTG'\n",
       "\\item[\\$`ANGBF39444-19`] 'GAACCGCTCTAAGCCTACTTATTCGAGCAGAACTCAATCAGCCAGGAAGCCTCCTAGGAGACGACCAGATTTATAATGTAATCGTAACAGCACATGCATTTGTTATAATCTTCTTTATAGTTATACCCGCTATGATTGGAGGATTCGGAAACTGACTGATCCCTCTGATGATCGGAGCTCCCGATATAGCATTTCCACGAATAAACAACATAAGCTTCTGACTCCTCCCCCCTTCCCTTCTGCTTCTCCTCGCTTCTGCAGGTGTAGAAGCTGGGGCCGGAACTGGCTGAACAGTTTATCCCCCTCTAGCCGGCAATCTCGCCCATGCGGGGGCATCCGTGGATCTAACTATTTTTTCCCTTCATCTAGCAGGGATCTCCTCAATTTTAGGAGCTATTAACTTTATTACCACCATCATCAACATAAAACCCCCAGCCATTTCCCAATACCAAACACCACTCTTCGTTTGGGCAGTACTAATTACTGCTGTCCTCCTGCTCCTCTCCCTTCCGGTCCTTGCTGCTGGGATTACAATACTCCTTACAGACCGAAATCTAAACACCACCTTCTTTGACCCCGCAGGAGGAGGGGACCCAATTCTCTATCAACACCTA'\n",
       "\\end{description}\n"
      ],
      "text/markdown": [
       "$`ANGBF28997-19`\n",
       ":   'GAACAGCTTTAAGCCTGCTAATTCGAGCAGAACTAAACCAACCAGGCAGCCTCCTAGGGGACGACCAAATTTACAATGTTATTGTTACAGCACATGCATTTGTAATAATTTTCTTTATAGTAATACCAGCTATAATCGGAGGATTCGGAAACTGATTAATCCCATTAATAATTGGGGCCCCCGACATGGCATTCCCCCGAATAAATAACATAAGCTTCTGACTCCTACCCCCCTCTCTCCTCCTCCTCTTAGCCTCTGCTGGAGTAGAGGCCGGGGCCGGCACTGGATGAACAGTCTACCCGCCCCTCGCCGGCAACTTAGCCCATGCAGGAGCATCAGTAGATTTAACCATCTTCTCCCTACATTTAGCAGGGGTCTCCTCAATTCTAGGAGCTATTAATTTTATCACCACCATCATTAACATGAAACCTCCCGCCATCTCTCAGTACCAGACACCACTATTTGTCTGAGCCGTACTAATTACCGCAGTTCTACTTCTCCTCTCCCTTCCAGTCCTTGCTGCGGGAATTACGATACTCCTAACAGACCGAAACCTAAATACTACCTTCTTTGACCCTGCAGGAGGGGGAGACCCAATTCTTTACCAACACTTA'\n",
       "$`ANGBF29002-19`\n",
       ":   'GAACCGCCCTAAGCCTTCTTATTCGAGCAGAACTAAATCAACCAGGCAGCCTTTTAGGGGATGACCAAATTTATAATGTAATCGTAACAGCACACGCATTTGTAATAATCTTCTTTATAGTTATACCAGCTATAATTGGAGGATTTGGCAACTGACTAATTCCCCTAATAATTGGAGCCCCGGATATGGCATTCCCCCGAATAAACAACATGAGCTTTTGACTCCTGCCTCCCTCCCTTCTGCTCCTCCTCGCCTCTGCGGGCGTAGAAGCGGGGGCCGGAACTGGCTGAACAGTCTACCCCCCGCTAGCCGGCAATCTGGCCCATGCAGGGGCATCTGTAGACTTAACTATTTTCTCCCTCCATCTAGCAGGGGTCTCCTCAATTTTAGGGGCTATTAATTTTATTACCACCATTATCAATATGAAGCCCCCTGCCATCTCACAGTATCAAACACCACTGTTCGTTTGAGCAGTACTAATCACCGCCGTCCTTTTACTTCTTTCTCTTCCTGTTCTTGCAGCTGGGATTACAATACTCCTTACAGACCGGAACCTAAACACCACCTTCTTTGACCCTGCAGGAGGGGGGGACCCGATCCTCTACCAACACCTA'\n",
       "$`ANGBF29009-19`\n",
       ":   'GAACAGCTTTAAGCCTACTAATTCGAGCAGAACTAAACCAACCAGGCAGCCTCCTCGGGGACGACCAAATCTATAATGTTATCGTTACAGCACATGCATTCGTAATAATTTTCTTCATAGTCATGCCAGCTATAATCGGAGGATTTGGTAACTGACTAATCCCGCTAATAATTGGAGCCCCTGACATAGCATTCCCCCGAATAAACAACATGAGCTTCTGGCTCTTACCCCCCTCCCTTCTCCTCCTCCTGGCCTCGGCCGGAGTAGAGGCTGGGGCAGGTACCGGATGAACAGTCTACCCGCCTCTAGCGGGCAACTTAGCCCACGCAGGCGCATCAGTAGATTTAACCATTTTCTCCCTTCATTTAGCAGGGGTTTCCTCAATTCTAGGGGCTATTAATTTTATTACCACTATTATTAACATGAAACCTCCCGCCATCTCCCAGTACCAGACACCACTGTTTGTCTGAGCAGTACTAATTACTGCAGTCCTACTCCTTCTTTCACTACCCGTCCTTGCTGCAGGAATTACTATACTCCTGACAGACCGGAACCTAAATACTACCTTTTTTGACCCTGCAGGAGGGGGAGACCCAATTCTTTACCAACACTTA'\n",
       "$`ANGBF39433-19`\n",
       ":   'GTACAGCTTTAAGCCTACTAATTCGAGCTGAACTAAATCAGCCAGGCAGCCTCCTTGGGGACGACCAAATCTACAATGTTATCGTCACAGCACATGCATTTGTAATAATTTTTTTTATAGTAATACCAGCTATAATTGGAGGATTTGGAAACTGACTAGTTCCCCTAATAATTGGGGCCCCTGACATAGCATTCCCCCGAATGAATAACATAAGCTTCTGACTCCTTCCGCCTTCCCTCCTACTCCTCCTAGCTTCTGCTGGAGTAGAAGCCGGGGCCGGAACCGGATGAACAGTATACCCCCCTCTAGCTGGCAACTTGGCCCATGCAGGCGCATCAGTAGACCTGACCATCTTCTCCCTTCATTTAGCGGGAGTTTCCTCAATTCTAGGGGCCATTAATTTTATCACCACTATTATTAACATGAAACCCCCTGCTATCTCTCAGTATCAAACACCACTATTCGTCTGAGCAGTATTAATTACCGCAGTCCTACTACTTCTTTCCCTCCCAGTCCTTGCTGCAGGAATTACAATGCTCCTTACGGACCGAAACCTAAATACCACCTTCTTTGACCCTGCAGGAGGAGGAGACCCAATTCTTTACCAACACTTA'\n",
       "$`ANGBF39436-19`\n",
       ":   'GGACGGCTTTAAGCCTGCTTATCCGAGCTGAACTTAATCAGCCCGGCAGCCTCCTTGGAGACGACCAGATTTATAATGTTATCGTAACAGCACATGCGTTTGTAATAATCTTCTTTATGGTAATACCAGCCATAATCGGAGGATTTGGAAACTGATTAATTCCACTAATGATTGGGGCACCAGATATGGCGTTCCCTCGAATGAATAACATGAGCTTTTGACTCCTTCCTCCCTCCCTCCTCCTTCTCTTAGCTTCTGCTGGCGTAGAAGCCGGGGCCGGTACTGGATGAACAGTGTATCCCCCACTAGCCGGCAACTTAGCTCACGCAGGAGCATCCGTAGACCTGACCATCTTCTCCCTCCACTTAGCAGGGGTCTCCTCAATTCTAGGGGCTATTAATTTCATTACTACAATTATTAATATGAAACCCCCCGCTATTTCCCAGTACCAAACACCTTTATTTGTTTGAGCAGTCCTGATTACCGCAGTTCTACTACTCCTTTCCCTCCCAGTCCTTGCTGCAGGTATTACAATGCTTCTTACAGACCGAAACCTCAACACTACCTTTTTTGACCCCGCAGGTGGAGGAGACCCAATTCTTTACCAACATCTG'\n",
       "$`ANGBF39444-19`\n",
       ":   'GAACCGCTCTAAGCCTACTTATTCGAGCAGAACTCAATCAGCCAGGAAGCCTCCTAGGAGACGACCAGATTTATAATGTAATCGTAACAGCACATGCATTTGTTATAATCTTCTTTATAGTTATACCCGCTATGATTGGAGGATTCGGAAACTGACTGATCCCTCTGATGATCGGAGCTCCCGATATAGCATTTCCACGAATAAACAACATAAGCTTCTGACTCCTCCCCCCTTCCCTTCTGCTTCTCCTCGCTTCTGCAGGTGTAGAAGCTGGGGCCGGAACTGGCTGAACAGTTTATCCCCCTCTAGCCGGCAATCTCGCCCATGCGGGGGCATCCGTGGATCTAACTATTTTTTCCCTTCATCTAGCAGGGATCTCCTCAATTTTAGGAGCTATTAACTTTATTACCACCATCATCAACATAAAACCCCCAGCCATTTCCCAATACCAAACACCACTCTTCGTTTGGGCAGTACTAATTACTGCTGTCCTCCTGCTCCTCTCCCTTCCGGTCCTTGCTGCTGGGATTACAATACTCCTTACAGACCGAAATCTAAACACCACCTTCTTTGACCCCGCAGGAGGAGGGGACCCAATTCTCTATCAACACCTA'\n",
       "\n",
       "\n"
      ],
      "text/plain": [
       "$`ANGBF28997-19`\n",
       "[1] \"GAACAGCTTTAAGCCTGCTAATTCGAGCAGAACTAAACCAACCAGGCAGCCTCCTAGGGGACGACCAAATTTACAATGTTATTGTTACAGCACATGCATTTGTAATAATTTTCTTTATAGTAATACCAGCTATAATCGGAGGATTCGGAAACTGATTAATCCCATTAATAATTGGGGCCCCCGACATGGCATTCCCCCGAATAAATAACATAAGCTTCTGACTCCTACCCCCCTCTCTCCTCCTCCTCTTAGCCTCTGCTGGAGTAGAGGCCGGGGCCGGCACTGGATGAACAGTCTACCCGCCCCTCGCCGGCAACTTAGCCCATGCAGGAGCATCAGTAGATTTAACCATCTTCTCCCTACATTTAGCAGGGGTCTCCTCAATTCTAGGAGCTATTAATTTTATCACCACCATCATTAACATGAAACCTCCCGCCATCTCTCAGTACCAGACACCACTATTTGTCTGAGCCGTACTAATTACCGCAGTTCTACTTCTCCTCTCCCTTCCAGTCCTTGCTGCGGGAATTACGATACTCCTAACAGACCGAAACCTAAATACTACCTTCTTTGACCCTGCAGGAGGGGGAGACCCAATTCTTTACCAACACTTA\"\n",
       "\n",
       "$`ANGBF29002-19`\n",
       "[1] \"GAACCGCCCTAAGCCTTCTTATTCGAGCAGAACTAAATCAACCAGGCAGCCTTTTAGGGGATGACCAAATTTATAATGTAATCGTAACAGCACACGCATTTGTAATAATCTTCTTTATAGTTATACCAGCTATAATTGGAGGATTTGGCAACTGACTAATTCCCCTAATAATTGGAGCCCCGGATATGGCATTCCCCCGAATAAACAACATGAGCTTTTGACTCCTGCCTCCCTCCCTTCTGCTCCTCCTCGCCTCTGCGGGCGTAGAAGCGGGGGCCGGAACTGGCTGAACAGTCTACCCCCCGCTAGCCGGCAATCTGGCCCATGCAGGGGCATCTGTAGACTTAACTATTTTCTCCCTCCATCTAGCAGGGGTCTCCTCAATTTTAGGGGCTATTAATTTTATTACCACCATTATCAATATGAAGCCCCCTGCCATCTCACAGTATCAAACACCACTGTTCGTTTGAGCAGTACTAATCACCGCCGTCCTTTTACTTCTTTCTCTTCCTGTTCTTGCAGCTGGGATTACAATACTCCTTACAGACCGGAACCTAAACACCACCTTCTTTGACCCTGCAGGAGGGGGGGACCCGATCCTCTACCAACACCTA\"\n",
       "\n",
       "$`ANGBF29009-19`\n",
       "[1] \"GAACAGCTTTAAGCCTACTAATTCGAGCAGAACTAAACCAACCAGGCAGCCTCCTCGGGGACGACCAAATCTATAATGTTATCGTTACAGCACATGCATTCGTAATAATTTTCTTCATAGTCATGCCAGCTATAATCGGAGGATTTGGTAACTGACTAATCCCGCTAATAATTGGAGCCCCTGACATAGCATTCCCCCGAATAAACAACATGAGCTTCTGGCTCTTACCCCCCTCCCTTCTCCTCCTCCTGGCCTCGGCCGGAGTAGAGGCTGGGGCAGGTACCGGATGAACAGTCTACCCGCCTCTAGCGGGCAACTTAGCCCACGCAGGCGCATCAGTAGATTTAACCATTTTCTCCCTTCATTTAGCAGGGGTTTCCTCAATTCTAGGGGCTATTAATTTTATTACCACTATTATTAACATGAAACCTCCCGCCATCTCCCAGTACCAGACACCACTGTTTGTCTGAGCAGTACTAATTACTGCAGTCCTACTCCTTCTTTCACTACCCGTCCTTGCTGCAGGAATTACTATACTCCTGACAGACCGGAACCTAAATACTACCTTTTTTGACCCTGCAGGAGGGGGAGACCCAATTCTTTACCAACACTTA\"\n",
       "\n",
       "$`ANGBF39433-19`\n",
       "[1] \"GTACAGCTTTAAGCCTACTAATTCGAGCTGAACTAAATCAGCCAGGCAGCCTCCTTGGGGACGACCAAATCTACAATGTTATCGTCACAGCACATGCATTTGTAATAATTTTTTTTATAGTAATACCAGCTATAATTGGAGGATTTGGAAACTGACTAGTTCCCCTAATAATTGGGGCCCCTGACATAGCATTCCCCCGAATGAATAACATAAGCTTCTGACTCCTTCCGCCTTCCCTCCTACTCCTCCTAGCTTCTGCTGGAGTAGAAGCCGGGGCCGGAACCGGATGAACAGTATACCCCCCTCTAGCTGGCAACTTGGCCCATGCAGGCGCATCAGTAGACCTGACCATCTTCTCCCTTCATTTAGCGGGAGTTTCCTCAATTCTAGGGGCCATTAATTTTATCACCACTATTATTAACATGAAACCCCCTGCTATCTCTCAGTATCAAACACCACTATTCGTCTGAGCAGTATTAATTACCGCAGTCCTACTACTTCTTTCCCTCCCAGTCCTTGCTGCAGGAATTACAATGCTCCTTACGGACCGAAACCTAAATACCACCTTCTTTGACCCTGCAGGAGGAGGAGACCCAATTCTTTACCAACACTTA\"\n",
       "\n",
       "$`ANGBF39436-19`\n",
       "[1] \"GGACGGCTTTAAGCCTGCTTATCCGAGCTGAACTTAATCAGCCCGGCAGCCTCCTTGGAGACGACCAGATTTATAATGTTATCGTAACAGCACATGCGTTTGTAATAATCTTCTTTATGGTAATACCAGCCATAATCGGAGGATTTGGAAACTGATTAATTCCACTAATGATTGGGGCACCAGATATGGCGTTCCCTCGAATGAATAACATGAGCTTTTGACTCCTTCCTCCCTCCCTCCTCCTTCTCTTAGCTTCTGCTGGCGTAGAAGCCGGGGCCGGTACTGGATGAACAGTGTATCCCCCACTAGCCGGCAACTTAGCTCACGCAGGAGCATCCGTAGACCTGACCATCTTCTCCCTCCACTTAGCAGGGGTCTCCTCAATTCTAGGGGCTATTAATTTCATTACTACAATTATTAATATGAAACCCCCCGCTATTTCCCAGTACCAAACACCTTTATTTGTTTGAGCAGTCCTGATTACCGCAGTTCTACTACTCCTTTCCCTCCCAGTCCTTGCTGCAGGTATTACAATGCTTCTTACAGACCGAAACCTCAACACTACCTTTTTTGACCCCGCAGGTGGAGGAGACCCAATTCTTTACCAACATCTG\"\n",
       "\n",
       "$`ANGBF39444-19`\n",
       "[1] \"GAACCGCTCTAAGCCTACTTATTCGAGCAGAACTCAATCAGCCAGGAAGCCTCCTAGGAGACGACCAGATTTATAATGTAATCGTAACAGCACATGCATTTGTTATAATCTTCTTTATAGTTATACCCGCTATGATTGGAGGATTCGGAAACTGACTGATCCCTCTGATGATCGGAGCTCCCGATATAGCATTTCCACGAATAAACAACATAAGCTTCTGACTCCTCCCCCCTTCCCTTCTGCTTCTCCTCGCTTCTGCAGGTGTAGAAGCTGGGGCCGGAACTGGCTGAACAGTTTATCCCCCTCTAGCCGGCAATCTCGCCCATGCGGGGGCATCCGTGGATCTAACTATTTTTTCCCTTCATCTAGCAGGGATCTCCTCAATTTTAGGAGCTATTAACTTTATTACCACCATCATCAACATAAAACCCCCAGCCATTTCCCAATACCAAACACCACTCTTCGTTTGGGCAGTACTAATTACTGCTGTCCTCCTGCTCCTCTCCCTTCCGGTCCTTGCTGCTGGGATTACAATACTCCTTACAGACCGAAATCTAAACACCACCTTCTTTGACCCCGCAGGAGGAGGGGACCCAATTCTCTATCAACACCTA\"\n"
      ]
     },
     "metadata": {},
     "output_type": "display_data"
    }
   ],
   "source": [
    "## display the list of fasta sequences of specimen\n",
    "head(resBold$fasta)"
   ]
  },
  {
   "cell_type": "markdown",
   "metadata": {},
   "source": [
    "As we can see, `resBold` contains 1049 individuals with 1049 corresponding DNA sequences. Each individual is described by 79 information fields."
   ]
  },
  {
   "cell_type": "code",
   "execution_count": 15,
   "metadata": {},
   "outputs": [
    {
     "data": {
      "text/html": [
       "<style>\n",
       ".list-inline {list-style: none; margin:0; padding: 0}\n",
       ".list-inline>li {display: inline-block}\n",
       ".list-inline>li:not(:last-child)::after {content: \"\\00b7\"; padding: 0 .5ex}\n",
       "</style>\n",
       "<ol class=list-inline><li>1049</li><li>79</li></ol>\n"
      ],
      "text/latex": [
       "\\begin{enumerate*}\n",
       "\\item 1049\n",
       "\\item 79\n",
       "\\end{enumerate*}\n"
      ],
      "text/markdown": [
       "1. 1049\n",
       "2. 79\n",
       "\n",
       "\n"
      ],
      "text/plain": [
       "[1] 1049   79"
      ]
     },
     "metadata": {},
     "output_type": "display_data"
    },
    {
     "data": {
      "text/html": [
       "1049"
      ],
      "text/latex": [
       "1049"
      ],
      "text/markdown": [
       "1049"
      ],
      "text/plain": [
       "[1] 1049"
      ]
     },
     "metadata": {},
     "output_type": "display_data"
    },
    {
     "data": {
      "text/html": [
       "<style>\n",
       ".list-inline {list-style: none; margin:0; padding: 0}\n",
       ".list-inline>li {display: inline-block}\n",
       ".list-inline>li:not(:last-child)::after {content: \"\\00b7\"; padding: 0 .5ex}\n",
       "</style>\n",
       "<ol class=list-inline><li>'processid'</li><li>'sampleid'</li><li>'recordID'</li><li>'catalognum'</li><li>'fieldnum'</li><li>'institution_storing'</li><li>'collection_code'</li><li>'bin_uri'</li><li>'phylum_taxID'</li><li>'phylum_name'</li><li>'class_taxID'</li><li>'class_name'</li><li>'order_taxID'</li><li>'order_name'</li><li>'family_taxID'</li><li>'family_name'</li><li>'subfamily_taxID'</li><li>'subfamily_name'</li><li>'genus_taxID'</li><li>'genus_name'</li><li>'species_taxID'</li><li>'species_name'</li><li>'subspecies_taxID'</li><li>'subspecies_name'</li><li>'identification_provided_by'</li><li>'identification_method'</li><li>'identification_reference'</li><li>'tax_note'</li><li>'voucher_status'</li><li>'tissue_type'</li><li>'collection_event_id'</li><li>'collectors'</li><li>'collectiondate_start'</li><li>'collectiondate_end'</li><li>'collectiontime'</li><li>'collection_note'</li><li>'site_code'</li><li>'sampling_protocol'</li><li>'lifestage'</li><li>'sex'</li><li>'reproduction'</li><li>'habitat'</li><li>'associated_specimens'</li><li>'associated_taxa'</li><li>'extrainfo'</li><li>'notes'</li><li>'lat'</li><li>'lon'</li><li>'coord_source'</li><li>'coord_accuracy'</li><li>'elev'</li><li>'depth'</li><li>'elev_accuracy'</li><li>'depth_accuracy'</li><li>'country'</li><li>'province_state'</li><li>'region'</li><li>'sector'</li><li>'exactsite'</li><li>'image_ids'</li><li>'image_urls'</li><li>'media_descriptors'</li><li>'captions'</li><li>'copyright_holders'</li><li>'copyright_years'</li><li>'copyright_licenses'</li><li>'copyright_institutions'</li><li>'photographers'</li><li>'sequenceID'</li><li>'markercode'</li><li>'genbank_accession'</li><li>'trace_ids'</li><li>'trace_names'</li><li>'trace_links'</li><li>'run_dates'</li><li>'sequencing_centers'</li><li>'directions'</li><li>'seq_primers'</li><li>'marker_codes'</li></ol>\n"
      ],
      "text/latex": [
       "\\begin{enumerate*}\n",
       "\\item 'processid'\n",
       "\\item 'sampleid'\n",
       "\\item 'recordID'\n",
       "\\item 'catalognum'\n",
       "\\item 'fieldnum'\n",
       "\\item 'institution\\_storing'\n",
       "\\item 'collection\\_code'\n",
       "\\item 'bin\\_uri'\n",
       "\\item 'phylum\\_taxID'\n",
       "\\item 'phylum\\_name'\n",
       "\\item 'class\\_taxID'\n",
       "\\item 'class\\_name'\n",
       "\\item 'order\\_taxID'\n",
       "\\item 'order\\_name'\n",
       "\\item 'family\\_taxID'\n",
       "\\item 'family\\_name'\n",
       "\\item 'subfamily\\_taxID'\n",
       "\\item 'subfamily\\_name'\n",
       "\\item 'genus\\_taxID'\n",
       "\\item 'genus\\_name'\n",
       "\\item 'species\\_taxID'\n",
       "\\item 'species\\_name'\n",
       "\\item 'subspecies\\_taxID'\n",
       "\\item 'subspecies\\_name'\n",
       "\\item 'identification\\_provided\\_by'\n",
       "\\item 'identification\\_method'\n",
       "\\item 'identification\\_reference'\n",
       "\\item 'tax\\_note'\n",
       "\\item 'voucher\\_status'\n",
       "\\item 'tissue\\_type'\n",
       "\\item 'collection\\_event\\_id'\n",
       "\\item 'collectors'\n",
       "\\item 'collectiondate\\_start'\n",
       "\\item 'collectiondate\\_end'\n",
       "\\item 'collectiontime'\n",
       "\\item 'collection\\_note'\n",
       "\\item 'site\\_code'\n",
       "\\item 'sampling\\_protocol'\n",
       "\\item 'lifestage'\n",
       "\\item 'sex'\n",
       "\\item 'reproduction'\n",
       "\\item 'habitat'\n",
       "\\item 'associated\\_specimens'\n",
       "\\item 'associated\\_taxa'\n",
       "\\item 'extrainfo'\n",
       "\\item 'notes'\n",
       "\\item 'lat'\n",
       "\\item 'lon'\n",
       "\\item 'coord\\_source'\n",
       "\\item 'coord\\_accuracy'\n",
       "\\item 'elev'\n",
       "\\item 'depth'\n",
       "\\item 'elev\\_accuracy'\n",
       "\\item 'depth\\_accuracy'\n",
       "\\item 'country'\n",
       "\\item 'province\\_state'\n",
       "\\item 'region'\n",
       "\\item 'sector'\n",
       "\\item 'exactsite'\n",
       "\\item 'image\\_ids'\n",
       "\\item 'image\\_urls'\n",
       "\\item 'media\\_descriptors'\n",
       "\\item 'captions'\n",
       "\\item 'copyright\\_holders'\n",
       "\\item 'copyright\\_years'\n",
       "\\item 'copyright\\_licenses'\n",
       "\\item 'copyright\\_institutions'\n",
       "\\item 'photographers'\n",
       "\\item 'sequenceID'\n",
       "\\item 'markercode'\n",
       "\\item 'genbank\\_accession'\n",
       "\\item 'trace\\_ids'\n",
       "\\item 'trace\\_names'\n",
       "\\item 'trace\\_links'\n",
       "\\item 'run\\_dates'\n",
       "\\item 'sequencing\\_centers'\n",
       "\\item 'directions'\n",
       "\\item 'seq\\_primers'\n",
       "\\item 'marker\\_codes'\n",
       "\\end{enumerate*}\n"
      ],
      "text/markdown": [
       "1. 'processid'\n",
       "2. 'sampleid'\n",
       "3. 'recordID'\n",
       "4. 'catalognum'\n",
       "5. 'fieldnum'\n",
       "6. 'institution_storing'\n",
       "7. 'collection_code'\n",
       "8. 'bin_uri'\n",
       "9. 'phylum_taxID'\n",
       "10. 'phylum_name'\n",
       "11. 'class_taxID'\n",
       "12. 'class_name'\n",
       "13. 'order_taxID'\n",
       "14. 'order_name'\n",
       "15. 'family_taxID'\n",
       "16. 'family_name'\n",
       "17. 'subfamily_taxID'\n",
       "18. 'subfamily_name'\n",
       "19. 'genus_taxID'\n",
       "20. 'genus_name'\n",
       "21. 'species_taxID'\n",
       "22. 'species_name'\n",
       "23. 'subspecies_taxID'\n",
       "24. 'subspecies_name'\n",
       "25. 'identification_provided_by'\n",
       "26. 'identification_method'\n",
       "27. 'identification_reference'\n",
       "28. 'tax_note'\n",
       "29. 'voucher_status'\n",
       "30. 'tissue_type'\n",
       "31. 'collection_event_id'\n",
       "32. 'collectors'\n",
       "33. 'collectiondate_start'\n",
       "34. 'collectiondate_end'\n",
       "35. 'collectiontime'\n",
       "36. 'collection_note'\n",
       "37. 'site_code'\n",
       "38. 'sampling_protocol'\n",
       "39. 'lifestage'\n",
       "40. 'sex'\n",
       "41. 'reproduction'\n",
       "42. 'habitat'\n",
       "43. 'associated_specimens'\n",
       "44. 'associated_taxa'\n",
       "45. 'extrainfo'\n",
       "46. 'notes'\n",
       "47. 'lat'\n",
       "48. 'lon'\n",
       "49. 'coord_source'\n",
       "50. 'coord_accuracy'\n",
       "51. 'elev'\n",
       "52. 'depth'\n",
       "53. 'elev_accuracy'\n",
       "54. 'depth_accuracy'\n",
       "55. 'country'\n",
       "56. 'province_state'\n",
       "57. 'region'\n",
       "58. 'sector'\n",
       "59. 'exactsite'\n",
       "60. 'image_ids'\n",
       "61. 'image_urls'\n",
       "62. 'media_descriptors'\n",
       "63. 'captions'\n",
       "64. 'copyright_holders'\n",
       "65. 'copyright_years'\n",
       "66. 'copyright_licenses'\n",
       "67. 'copyright_institutions'\n",
       "68. 'photographers'\n",
       "69. 'sequenceID'\n",
       "70. 'markercode'\n",
       "71. 'genbank_accession'\n",
       "72. 'trace_ids'\n",
       "73. 'trace_names'\n",
       "74. 'trace_links'\n",
       "75. 'run_dates'\n",
       "76. 'sequencing_centers'\n",
       "77. 'directions'\n",
       "78. 'seq_primers'\n",
       "79. 'marker_codes'\n",
       "\n",
       "\n"
      ],
      "text/plain": [
       " [1] \"processid\"                  \"sampleid\"                  \n",
       " [3] \"recordID\"                   \"catalognum\"                \n",
       " [5] \"fieldnum\"                   \"institution_storing\"       \n",
       " [7] \"collection_code\"            \"bin_uri\"                   \n",
       " [9] \"phylum_taxID\"               \"phylum_name\"               \n",
       "[11] \"class_taxID\"                \"class_name\"                \n",
       "[13] \"order_taxID\"                \"order_name\"                \n",
       "[15] \"family_taxID\"               \"family_name\"               \n",
       "[17] \"subfamily_taxID\"            \"subfamily_name\"            \n",
       "[19] \"genus_taxID\"                \"genus_name\"                \n",
       "[21] \"species_taxID\"              \"species_name\"              \n",
       "[23] \"subspecies_taxID\"           \"subspecies_name\"           \n",
       "[25] \"identification_provided_by\" \"identification_method\"     \n",
       "[27] \"identification_reference\"   \"tax_note\"                  \n",
       "[29] \"voucher_status\"             \"tissue_type\"               \n",
       "[31] \"collection_event_id\"        \"collectors\"                \n",
       "[33] \"collectiondate_start\"       \"collectiondate_end\"        \n",
       "[35] \"collectiontime\"             \"collection_note\"           \n",
       "[37] \"site_code\"                  \"sampling_protocol\"         \n",
       "[39] \"lifestage\"                  \"sex\"                       \n",
       "[41] \"reproduction\"               \"habitat\"                   \n",
       "[43] \"associated_specimens\"       \"associated_taxa\"           \n",
       "[45] \"extrainfo\"                  \"notes\"                     \n",
       "[47] \"lat\"                        \"lon\"                       \n",
       "[49] \"coord_source\"               \"coord_accuracy\"            \n",
       "[51] \"elev\"                       \"depth\"                     \n",
       "[53] \"elev_accuracy\"              \"depth_accuracy\"            \n",
       "[55] \"country\"                    \"province_state\"            \n",
       "[57] \"region\"                     \"sector\"                    \n",
       "[59] \"exactsite\"                  \"image_ids\"                 \n",
       "[61] \"image_urls\"                 \"media_descriptors\"         \n",
       "[63] \"captions\"                   \"copyright_holders\"         \n",
       "[65] \"copyright_years\"            \"copyright_licenses\"        \n",
       "[67] \"copyright_institutions\"     \"photographers\"             \n",
       "[69] \"sequenceID\"                 \"markercode\"                \n",
       "[71] \"genbank_accession\"          \"trace_ids\"                 \n",
       "[73] \"trace_names\"                \"trace_links\"               \n",
       "[75] \"run_dates\"                  \"sequencing_centers\"        \n",
       "[77] \"directions\"                 \"seq_primers\"               \n",
       "[79] \"marker_codes\"              "
      ]
     },
     "metadata": {},
     "output_type": "display_data"
    }
   ],
   "source": [
    "## rows is the number of individuals, columns the number of information descriptors\n",
    "dim(resBold$data)\n",
    "## number of barcode sequences\n",
    "length(resBold$fasta)\n",
    "## names of the information fields\n",
    "names(resBold$data)"
   ]
  },
  {
   "cell_type": "markdown",
   "metadata": {},
   "source": [
    "For the next steps, most important fields are `species_name`, `lat`, `lon` and `marker_codes`"
   ]
  },
  {
   "cell_type": "markdown",
   "metadata": {},
   "source": [
    "# Reef Life Survey dataset\n",
    "\n",
    "[Reef Life Survey](https://reeflifesurvey.com/survey-data/) is a set of size and abundance data from thousands of reef-dwelling species recorded on RLS transects across over thousands of sites worldwide\n",
    "\n",
    "*geogendivr* provides two reef life survey dataframes:\n",
    "\n",
    "* `reefishSurveySpecies` describes reef fish species abundance and biomass for 7100 spatial survey geographical position\n",
    "\n",
    "* `reefishSurveyEnvSocio` social environmental data attributed to Reef Life Survey geographical locations.\n",
    "\n",
    "\n"
   ]
  },
  {
   "cell_type": "code",
   "execution_count": 35,
   "metadata": {},
   "outputs": [
    {
     "data": {
      "text/html": [
       "<table>\n",
       "<caption>A data.frame: 6 × 11</caption>\n",
       "<thead>\n",
       "\t<tr><th></th><th scope=col>Country</th><th scope=col>Abb_ISO</th><th scope=col>SiteCode</th><th scope=col>SiteLatitude</th><th scope=col>SiteLongitude</th><th scope=col>SurveyID</th><th scope=col>SurveyDate</th><th scope=col>TAXONOMIC_NAME</th><th scope=col>Depth</th><th scope=col>Num</th><th scope=col>Biomass</th></tr>\n",
       "\t<tr><th></th><th scope=col>&lt;fct&gt;</th><th scope=col>&lt;fct&gt;</th><th scope=col>&lt;fct&gt;</th><th scope=col>&lt;dbl&gt;</th><th scope=col>&lt;dbl&gt;</th><th scope=col>&lt;int&gt;</th><th scope=col>&lt;fct&gt;</th><th scope=col>&lt;fct&gt;</th><th scope=col>&lt;dbl&gt;</th><th scope=col>&lt;int&gt;</th><th scope=col>&lt;dbl&gt;</th></tr>\n",
       "</thead>\n",
       "<tbody>\n",
       "\t<tr><th scope=row>1</th><td>Australia</td><td>AUS</td><td>NT34  </td><td>-11.43542</td><td>134.1370</td><td>912345761</td><td>26.10.15</td><td>Abalistes stellatus</td><td>13</td><td>1</td><td>369.6704</td></tr>\n",
       "\t<tr><th scope=row>2</th><td>Australia</td><td>AUS</td><td>NT49  </td><td>-12.06204</td><td>136.6135</td><td>912345790</td><td>05.11.15</td><td>Abalistes stellatus</td><td> 8</td><td>2</td><td>507.2568</td></tr>\n",
       "\t<tr><th scope=row>3</th><td>Australia</td><td>AUS</td><td>NWS111</td><td>-20.03417</td><td>118.3762</td><td>912344284</td><td>13.10.13</td><td>Abalistes stellatus</td><td>17</td><td>2</td><td>739.3407</td></tr>\n",
       "\t<tr><th scope=row>4</th><td>Australia</td><td>AUS</td><td>NWS160</td><td>-21.94178</td><td>114.1607</td><td>912344379</td><td>31.10.13</td><td>Abalistes stellatus</td><td>13</td><td>1</td><td>369.6704</td></tr>\n",
       "\t<tr><th scope=row>5</th><td>Australia</td><td>AUS</td><td>QLD90 </td><td>-10.50174</td><td>141.2280</td><td>912345833</td><td>22.11.15</td><td>Abalistes stellatus</td><td>13</td><td>1</td><td>369.6704</td></tr>\n",
       "\t<tr><th scope=row>6</th><td>Australia</td><td>AUS</td><td>QLD91 </td><td>-10.74245</td><td>141.0585</td><td>912345834</td><td>23.11.15</td><td>Abalistes stellatus</td><td>17</td><td>1</td><td>253.6284</td></tr>\n",
       "</tbody>\n",
       "</table>\n"
      ],
      "text/latex": [
       "A data.frame: 6 × 11\n",
       "\\begin{tabular}{r|lllllllllll}\n",
       "  & Country & Abb\\_ISO & SiteCode & SiteLatitude & SiteLongitude & SurveyID & SurveyDate & TAXONOMIC\\_NAME & Depth & Num & Biomass\\\\\n",
       "  & <fct> & <fct> & <fct> & <dbl> & <dbl> & <int> & <fct> & <fct> & <dbl> & <int> & <dbl>\\\\\n",
       "\\hline\n",
       "\t1 & Australia & AUS & NT34   & -11.43542 & 134.1370 & 912345761 & 26.10.15 & Abalistes stellatus & 13 & 1 & 369.6704\\\\\n",
       "\t2 & Australia & AUS & NT49   & -12.06204 & 136.6135 & 912345790 & 05.11.15 & Abalistes stellatus &  8 & 2 & 507.2568\\\\\n",
       "\t3 & Australia & AUS & NWS111 & -20.03417 & 118.3762 & 912344284 & 13.10.13 & Abalistes stellatus & 17 & 2 & 739.3407\\\\\n",
       "\t4 & Australia & AUS & NWS160 & -21.94178 & 114.1607 & 912344379 & 31.10.13 & Abalistes stellatus & 13 & 1 & 369.6704\\\\\n",
       "\t5 & Australia & AUS & QLD90  & -10.50174 & 141.2280 & 912345833 & 22.11.15 & Abalistes stellatus & 13 & 1 & 369.6704\\\\\n",
       "\t6 & Australia & AUS & QLD91  & -10.74245 & 141.0585 & 912345834 & 23.11.15 & Abalistes stellatus & 17 & 1 & 253.6284\\\\\n",
       "\\end{tabular}\n"
      ],
      "text/markdown": [
       "\n",
       "A data.frame: 6 × 11\n",
       "\n",
       "| <!--/--> | Country &lt;fct&gt; | Abb_ISO &lt;fct&gt; | SiteCode &lt;fct&gt; | SiteLatitude &lt;dbl&gt; | SiteLongitude &lt;dbl&gt; | SurveyID &lt;int&gt; | SurveyDate &lt;fct&gt; | TAXONOMIC_NAME &lt;fct&gt; | Depth &lt;dbl&gt; | Num &lt;int&gt; | Biomass &lt;dbl&gt; |\n",
       "|---|---|---|---|---|---|---|---|---|---|---|---|\n",
       "| 1 | Australia | AUS | NT34   | -11.43542 | 134.1370 | 912345761 | 26.10.15 | Abalistes stellatus | 13 | 1 | 369.6704 |\n",
       "| 2 | Australia | AUS | NT49   | -12.06204 | 136.6135 | 912345790 | 05.11.15 | Abalistes stellatus |  8 | 2 | 507.2568 |\n",
       "| 3 | Australia | AUS | NWS111 | -20.03417 | 118.3762 | 912344284 | 13.10.13 | Abalistes stellatus | 17 | 2 | 739.3407 |\n",
       "| 4 | Australia | AUS | NWS160 | -21.94178 | 114.1607 | 912344379 | 31.10.13 | Abalistes stellatus | 13 | 1 | 369.6704 |\n",
       "| 5 | Australia | AUS | QLD90  | -10.50174 | 141.2280 | 912345833 | 22.11.15 | Abalistes stellatus | 13 | 1 | 369.6704 |\n",
       "| 6 | Australia | AUS | QLD91  | -10.74245 | 141.0585 | 912345834 | 23.11.15 | Abalistes stellatus | 17 | 1 | 253.6284 |\n",
       "\n"
      ],
      "text/plain": [
       "  Country   Abb_ISO SiteCode SiteLatitude SiteLongitude SurveyID  SurveyDate\n",
       "1 Australia AUS     NT34     -11.43542    134.1370      912345761 26.10.15  \n",
       "2 Australia AUS     NT49     -12.06204    136.6135      912345790 05.11.15  \n",
       "3 Australia AUS     NWS111   -20.03417    118.3762      912344284 13.10.13  \n",
       "4 Australia AUS     NWS160   -21.94178    114.1607      912344379 31.10.13  \n",
       "5 Australia AUS     QLD90    -10.50174    141.2280      912345833 22.11.15  \n",
       "6 Australia AUS     QLD91    -10.74245    141.0585      912345834 23.11.15  \n",
       "  TAXONOMIC_NAME      Depth Num Biomass \n",
       "1 Abalistes stellatus 13    1   369.6704\n",
       "2 Abalistes stellatus  8    2   507.2568\n",
       "3 Abalistes stellatus 17    2   739.3407\n",
       "4 Abalistes stellatus 13    1   369.6704\n",
       "5 Abalistes stellatus 13    1   369.6704\n",
       "6 Abalistes stellatus 17    1   253.6284"
      ]
     },
     "metadata": {},
     "output_type": "display_data"
    }
   ],
   "source": [
    "## load species Reef Life Survey dataframe\n",
    "data(reefishSurveySpecies)\n",
    "## a thorough description of this dataframe is available\n",
    "#help(reefishSurveySpecies)\n",
    "## display species/sampling location information field\n",
    "head(reefishSurveySpecies)"
   ]
  },
  {
   "cell_type": "code",
   "execution_count": 36,
   "metadata": {},
   "outputs": [
    {
     "data": {
      "text/html": [
       "<table>\n",
       "<caption>A data.frame: 6 × 46</caption>\n",
       "<thead>\n",
       "\t<tr><th></th><th scope=col>Country</th><th scope=col>SurveyID</th><th scope=col>Abb_ISO</th><th scope=col>SiteCode</th><th scope=col>SiteLatitude</th><th scope=col>SiteLongitude</th><th scope=col>SurveyDate</th><th scope=col>Depth</th><th scope=col>Num</th><th scope=col>Biomass</th><th scope=col>⋯</th><th scope=col>neartt</th><th scope=col>poptot</th><th scope=col>gravtot1</th><th scope=col>gravtot2</th><th scope=col>gravtot3</th><th scope=col>ZEE_names</th><th scope=col>ZEE_Territory</th><th scope=col>ZEE_Sovereign</th><th scope=col>ConflictCY</th><th scope=col>fish_landings</th></tr>\n",
       "\t<tr><th></th><th scope=col>&lt;fct&gt;</th><th scope=col>&lt;int&gt;</th><th scope=col>&lt;fct&gt;</th><th scope=col>&lt;fct&gt;</th><th scope=col>&lt;dbl&gt;</th><th scope=col>&lt;dbl&gt;</th><th scope=col>&lt;fct&gt;</th><th scope=col>&lt;dbl&gt;</th><th scope=col>&lt;int&gt;</th><th scope=col>&lt;dbl&gt;</th><th scope=col>⋯</th><th scope=col>&lt;dbl&gt;</th><th scope=col>&lt;dbl&gt;</th><th scope=col>&lt;dbl&gt;</th><th scope=col>&lt;dbl&gt;</th><th scope=col>&lt;dbl&gt;</th><th scope=col>&lt;fct&gt;</th><th scope=col>&lt;fct&gt;</th><th scope=col>&lt;fct&gt;</th><th scope=col>&lt;int&gt;</th><th scope=col>&lt;dbl&gt;</th></tr>\n",
       "</thead>\n",
       "<tbody>\n",
       "\t<tr><th scope=row>1</th><td>American Samoa</td><td>912341160</td><td>ASM</td><td>PAC35</td><td>-14.54903</td><td>-168.1620</td><td>22.08.12</td><td> 8</td><td> 592</td><td>44151.44</td><td>⋯</td><td>432.3548</td><td>188601.1</td><td>181.8329</td><td> 0.1837807</td><td>0.0001964641</td><td>American Samoa Exclusive Economic Zone</td><td>American Samoa</td><td>United States</td><td>0</td><td>6944.956</td></tr>\n",
       "\t<tr><th scope=row>2</th><td>American Samoa</td><td>912341163</td><td>ASM</td><td>PAC37</td><td>-14.54343</td><td>-168.1618</td><td>22.08.12</td><td> 6</td><td>1032</td><td>43817.13</td><td>⋯</td><td>431.0468</td><td>188601.1</td><td>182.0737</td><td> 0.1842959</td><td>0.0001973499</td><td>American Samoa Exclusive Economic Zone</td><td>American Samoa</td><td>United States</td><td>0</td><td>6944.956</td></tr>\n",
       "\t<tr><th scope=row>3</th><td>American Samoa</td><td>912341154</td><td>ASM</td><td>PAC32</td><td>-14.16952</td><td>-169.6867</td><td>20.08.12</td><td>12</td><td>1361</td><td>62950.76</td><td>⋯</td><td>  1.0000</td><td>190123.4</td><td>420.5472</td><td>14.3229816</td><td>9.1040664203</td><td>American Samoa Exclusive Economic Zone</td><td>American Samoa</td><td>United States</td><td>0</td><td>6944.956</td></tr>\n",
       "\t<tr><th scope=row>4</th><td>American Samoa</td><td>912341164</td><td>ASM</td><td>PAC37</td><td>-14.54343</td><td>-168.1618</td><td>22.08.12</td><td> 8</td><td>1365</td><td>20020.92</td><td>⋯</td><td>431.0468</td><td>188601.1</td><td>182.0737</td><td> 0.1842959</td><td>0.0001973499</td><td>American Samoa Exclusive Economic Zone</td><td>American Samoa</td><td>United States</td><td>0</td><td>6944.956</td></tr>\n",
       "\t<tr><th scope=row>5</th><td>American Samoa</td><td>912341157</td><td>ASM</td><td>PAC34</td><td>-14.53480</td><td>-168.1604</td><td>22.08.12</td><td> 6</td><td>1935</td><td>54125.24</td><td>⋯</td><td>429.7387</td><td>188601.1</td><td>182.3151</td><td> 0.1848134</td><td>0.0001982416</td><td>American Samoa Exclusive Economic Zone</td><td>American Samoa</td><td>United States</td><td>0</td><td>6944.956</td></tr>\n",
       "\t<tr><th scope=row>6</th><td>American Samoa</td><td>912341165</td><td>ASM</td><td>PAC38</td><td>-14.53794</td><td>-168.1536</td><td>22.08.12</td><td> 6</td><td> 914</td><td>82345.61</td><td>⋯</td><td>432.8966</td><td>188601.1</td><td>181.7336</td><td> 0.1835682</td><td>0.0001960991</td><td>American Samoa Exclusive Economic Zone</td><td>American Samoa</td><td>United States</td><td>0</td><td>6944.956</td></tr>\n",
       "</tbody>\n",
       "</table>\n"
      ],
      "text/latex": [
       "A data.frame: 6 × 46\n",
       "\\begin{tabular}{r|lllllllllllllllllllll}\n",
       "  & Country & SurveyID & Abb\\_ISO & SiteCode & SiteLatitude & SiteLongitude & SurveyDate & Depth & Num & Biomass & ⋯ & neartt & poptot & gravtot1 & gravtot2 & gravtot3 & ZEE\\_names & ZEE\\_Territory & ZEE\\_Sovereign & ConflictCY & fish\\_landings\\\\\n",
       "  & <fct> & <int> & <fct> & <fct> & <dbl> & <dbl> & <fct> & <dbl> & <int> & <dbl> & ⋯ & <dbl> & <dbl> & <dbl> & <dbl> & <dbl> & <fct> & <fct> & <fct> & <int> & <dbl>\\\\\n",
       "\\hline\n",
       "\t1 & American Samoa & 912341160 & ASM & PAC35 & -14.54903 & -168.1620 & 22.08.12 &  8 &  592 & 44151.44 & ⋯ & 432.3548 & 188601.1 & 181.8329 &  0.1837807 & 0.0001964641 & American Samoa Exclusive Economic Zone & American Samoa & United States & 0 & 6944.956\\\\\n",
       "\t2 & American Samoa & 912341163 & ASM & PAC37 & -14.54343 & -168.1618 & 22.08.12 &  6 & 1032 & 43817.13 & ⋯ & 431.0468 & 188601.1 & 182.0737 &  0.1842959 & 0.0001973499 & American Samoa Exclusive Economic Zone & American Samoa & United States & 0 & 6944.956\\\\\n",
       "\t3 & American Samoa & 912341154 & ASM & PAC32 & -14.16952 & -169.6867 & 20.08.12 & 12 & 1361 & 62950.76 & ⋯ &   1.0000 & 190123.4 & 420.5472 & 14.3229816 & 9.1040664203 & American Samoa Exclusive Economic Zone & American Samoa & United States & 0 & 6944.956\\\\\n",
       "\t4 & American Samoa & 912341164 & ASM & PAC37 & -14.54343 & -168.1618 & 22.08.12 &  8 & 1365 & 20020.92 & ⋯ & 431.0468 & 188601.1 & 182.0737 &  0.1842959 & 0.0001973499 & American Samoa Exclusive Economic Zone & American Samoa & United States & 0 & 6944.956\\\\\n",
       "\t5 & American Samoa & 912341157 & ASM & PAC34 & -14.53480 & -168.1604 & 22.08.12 &  6 & 1935 & 54125.24 & ⋯ & 429.7387 & 188601.1 & 182.3151 &  0.1848134 & 0.0001982416 & American Samoa Exclusive Economic Zone & American Samoa & United States & 0 & 6944.956\\\\\n",
       "\t6 & American Samoa & 912341165 & ASM & PAC38 & -14.53794 & -168.1536 & 22.08.12 &  6 &  914 & 82345.61 & ⋯ & 432.8966 & 188601.1 & 181.7336 &  0.1835682 & 0.0001960991 & American Samoa Exclusive Economic Zone & American Samoa & United States & 0 & 6944.956\\\\\n",
       "\\end{tabular}\n"
      ],
      "text/markdown": [
       "\n",
       "A data.frame: 6 × 46\n",
       "\n",
       "| <!--/--> | Country &lt;fct&gt; | SurveyID &lt;int&gt; | Abb_ISO &lt;fct&gt; | SiteCode &lt;fct&gt; | SiteLatitude &lt;dbl&gt; | SiteLongitude &lt;dbl&gt; | SurveyDate &lt;fct&gt; | Depth &lt;dbl&gt; | Num &lt;int&gt; | Biomass &lt;dbl&gt; | ⋯ ⋯ | neartt &lt;dbl&gt; | poptot &lt;dbl&gt; | gravtot1 &lt;dbl&gt; | gravtot2 &lt;dbl&gt; | gravtot3 &lt;dbl&gt; | ZEE_names &lt;fct&gt; | ZEE_Territory &lt;fct&gt; | ZEE_Sovereign &lt;fct&gt; | ConflictCY &lt;int&gt; | fish_landings &lt;dbl&gt; |\n",
       "|---|---|---|---|---|---|---|---|---|---|---|---|---|---|---|---|---|---|---|---|---|---|\n",
       "| 1 | American Samoa | 912341160 | ASM | PAC35 | -14.54903 | -168.1620 | 22.08.12 |  8 |  592 | 44151.44 | ⋯ | 432.3548 | 188601.1 | 181.8329 |  0.1837807 | 0.0001964641 | American Samoa Exclusive Economic Zone | American Samoa | United States | 0 | 6944.956 |\n",
       "| 2 | American Samoa | 912341163 | ASM | PAC37 | -14.54343 | -168.1618 | 22.08.12 |  6 | 1032 | 43817.13 | ⋯ | 431.0468 | 188601.1 | 182.0737 |  0.1842959 | 0.0001973499 | American Samoa Exclusive Economic Zone | American Samoa | United States | 0 | 6944.956 |\n",
       "| 3 | American Samoa | 912341154 | ASM | PAC32 | -14.16952 | -169.6867 | 20.08.12 | 12 | 1361 | 62950.76 | ⋯ |   1.0000 | 190123.4 | 420.5472 | 14.3229816 | 9.1040664203 | American Samoa Exclusive Economic Zone | American Samoa | United States | 0 | 6944.956 |\n",
       "| 4 | American Samoa | 912341164 | ASM | PAC37 | -14.54343 | -168.1618 | 22.08.12 |  8 | 1365 | 20020.92 | ⋯ | 431.0468 | 188601.1 | 182.0737 |  0.1842959 | 0.0001973499 | American Samoa Exclusive Economic Zone | American Samoa | United States | 0 | 6944.956 |\n",
       "| 5 | American Samoa | 912341157 | ASM | PAC34 | -14.53480 | -168.1604 | 22.08.12 |  6 | 1935 | 54125.24 | ⋯ | 429.7387 | 188601.1 | 182.3151 |  0.1848134 | 0.0001982416 | American Samoa Exclusive Economic Zone | American Samoa | United States | 0 | 6944.956 |\n",
       "| 6 | American Samoa | 912341165 | ASM | PAC38 | -14.53794 | -168.1536 | 22.08.12 |  6 |  914 | 82345.61 | ⋯ | 432.8966 | 188601.1 | 181.7336 |  0.1835682 | 0.0001960991 | American Samoa Exclusive Economic Zone | American Samoa | United States | 0 | 6944.956 |\n",
       "\n"
      ],
      "text/plain": [
       "  Country        SurveyID  Abb_ISO SiteCode SiteLatitude SiteLongitude\n",
       "1 American Samoa 912341160 ASM     PAC35    -14.54903    -168.1620    \n",
       "2 American Samoa 912341163 ASM     PAC37    -14.54343    -168.1618    \n",
       "3 American Samoa 912341154 ASM     PAC32    -14.16952    -169.6867    \n",
       "4 American Samoa 912341164 ASM     PAC37    -14.54343    -168.1618    \n",
       "5 American Samoa 912341157 ASM     PAC34    -14.53480    -168.1604    \n",
       "6 American Samoa 912341165 ASM     PAC38    -14.53794    -168.1536    \n",
       "  SurveyDate Depth Num  Biomass  ⋯ neartt   poptot   gravtot1 gravtot2  \n",
       "1 22.08.12    8     592 44151.44 ⋯ 432.3548 188601.1 181.8329  0.1837807\n",
       "2 22.08.12    6    1032 43817.13 ⋯ 431.0468 188601.1 182.0737  0.1842959\n",
       "3 20.08.12   12    1361 62950.76 ⋯   1.0000 190123.4 420.5472 14.3229816\n",
       "4 22.08.12    8    1365 20020.92 ⋯ 431.0468 188601.1 182.0737  0.1842959\n",
       "5 22.08.12    6    1935 54125.24 ⋯ 429.7387 188601.1 182.3151  0.1848134\n",
       "6 22.08.12    6     914 82345.61 ⋯ 432.8966 188601.1 181.7336  0.1835682\n",
       "  gravtot3     ZEE_names                              ZEE_Territory \n",
       "1 0.0001964641 American Samoa Exclusive Economic Zone American Samoa\n",
       "2 0.0001973499 American Samoa Exclusive Economic Zone American Samoa\n",
       "3 9.1040664203 American Samoa Exclusive Economic Zone American Samoa\n",
       "4 0.0001973499 American Samoa Exclusive Economic Zone American Samoa\n",
       "5 0.0001982416 American Samoa Exclusive Economic Zone American Samoa\n",
       "6 0.0001960991 American Samoa Exclusive Economic Zone American Samoa\n",
       "  ZEE_Sovereign ConflictCY fish_landings\n",
       "1 United States 0          6944.956     \n",
       "2 United States 0          6944.956     \n",
       "3 United States 0          6944.956     \n",
       "4 United States 0          6944.956     \n",
       "5 United States 0          6944.956     \n",
       "6 United States 0          6944.956     "
      ]
     },
     "metadata": {},
     "output_type": "display_data"
    }
   ],
   "source": [
    "## load social environmental Reef Life Survey dataframe\n",
    "data(reefishSurveyEnvSocio)\n",
    "## a thorough description of this dataframe is available\n",
    "#help(reefishSurveyEnvSocio)\n",
    "## display social environmental sampling location information field\n",
    "head(reefishSurveyEnvSocio)"
   ]
  },
  {
   "cell_type": "markdown",
   "metadata": {},
   "source": [
    "# Prepare dataset\n",
    "\n",
    "## 1. Mutate and filter raw BOLD dataset\n",
    "\n",
    "Filter and mutate BOLD dataset to produce a curated dataframe with rows as individual specimen and columns as specimen information. It adds a new column sequence with fasta sequences as string.\n",
    "\n",
    "The function `prepare_bold_res` apply 5 filters :\n",
    "\n",
    "1. Select individuals with given `marker_code`\n",
    "2. Remove individuals with no `species_name` information\n",
    "3. Remove individuals with no `lat` or `lon` coordinates information\n",
    "4. Remove DNA sequences with IUAPC ambiguities\n",
    "5. Select DNA sequences within a range of lengths\n",
    "\n"
   ]
  },
  {
   "cell_type": "code",
   "execution_count": 16,
   "metadata": {},
   "outputs": [],
   "source": [
    "## filter and mutate\n",
    "prparedResBold <- prepare_bold_res(resBold,\n",
    "                                   marker_code=\"COI-5P\",\n",
    "                                   species_names=TRUE, \n",
    "                                   coordinates=TRUE, \n",
    "                                   ambiguities=TRUE, \n",
    "                                   min_length=420,\n",
    "                                   max_length=720\n",
    "                                  )"
   ]
  },
  {
   "cell_type": "code",
   "execution_count": 17,
   "metadata": {},
   "outputs": [
    {
     "data": {
      "text/html": [
       "<style>\n",
       ".list-inline {list-style: none; margin:0; padding: 0}\n",
       ".list-inline>li {display: inline-block}\n",
       ".list-inline>li:not(:last-child)::after {content: \"\\00b7\"; padding: 0 .5ex}\n",
       "</style>\n",
       "<ol class=list-inline><li>399</li><li>80</li></ol>\n"
      ],
      "text/latex": [
       "\\begin{enumerate*}\n",
       "\\item 399\n",
       "\\item 80\n",
       "\\end{enumerate*}\n"
      ],
      "text/markdown": [
       "1. 399\n",
       "2. 80\n",
       "\n",
       "\n"
      ],
      "text/plain": [
       "[1] 399  80"
      ]
     },
     "metadata": {},
     "output_type": "display_data"
    },
    {
     "data": {
      "text/html": [
       "<style>\n",
       ".list-inline {list-style: none; margin:0; padding: 0}\n",
       ".list-inline>li {display: inline-block}\n",
       ".list-inline>li:not(:last-child)::after {content: \"\\00b7\"; padding: 0 .5ex}\n",
       "</style>\n",
       "<ol class=list-inline><li>'ATAGTTGGGGGATTCGGGAACTGACTAGTCCCGCTGATAATTGGAGCCCCAGACATGGCATTTCCTCGAATAAACAATATAAGCTTTTGGCTTCTGCCCCCTTCCCTCCTCCTTCTCCTTGCTTCCGCTGGAGTAGAGGCCGGAGCCGGGACTGGATGGACAGTTTACCCNCCCCTGGCCGGCAATTTAGCCCATGCAGGAGCATCCGTAGACTTAACCATTTTCTCCCTTCATCTAGCTGGAATTTCCTCAATTCTTGGGGCCATCAACTTTATTACAACCATTATTAACATGAAACCTCCCGGTATTTCCCAGTGCCAAACCCCGCTANGNGTTTGTATGGGCCGTTCTCATCACCTCATTGGTACTGCAATTCTAAAATCTTTGGCTCTCCCCAAAGTCCTTAAAAGCNGTTNNGACTTTTTGGTCCTCCCNAANCTTGATTGTCTCACN'</li><li>'CCTCTATTTACTATTCGGTGCTTGAGCTGGGATAGTGGGAACAGCTTTGAGCCTACTAATTCGAGCAGAGCTAAATCAACCAGGCAGCCTCCTTGGAGATGACCAAATTTATAATGTAATCGTTACAGCACATGCATTTGTAATAATTTTTTTTATAGTAATACCAGCTATAATTGGAGGATTTGGAAACTGGCTAATTCCCTTAATAATCGGGGCCCCAGACATAGCATTCCCACGAATAAATAACATAAGCTTTTGACTCCTTCCCCCCTCCCTCCTACTTCTCCTAGCCTCCGCTGGGGTAGAAGCCGGGGCCGGGACTGGATGAACGGTTTATCCCCCTCTGGCCGGCAATCTAGCCCATGCAGGTGCATCAGTAGATTTAACTATTTTCTCTCTCCACCTGGCAGGGGTTTCATCAATTCTAGGGGCTATTAACTTCATTACTACCATTATTAACATGAAACCTCCCGCCATTTCTCAATATCAAACACCCCTATTTGTTTGAGCAGTATTAATTACCGCAGTTCTGCTCCTTCTTTCCCTCCCAGTCCTCGCTGCGGGGATTACAATACTCCTTACAGACCGAAACCTAAACACCACCTTCTTCGACCCTGCAGGAGGAGGGGACCCCATTCTATACCAACACTTATTC'</li><li>'TACTTACTATTTGGTGCTTGGGCTGGGATGGTAGGAACCGCTTTAAGCCTACTAATTCGAGCAGAACTTAATCAGCCAGGGAGCCTCCTAGGAGATGACCAAATTTATAATGTGATCGTAACAGCACATGCATTTGTTATAATTTTCTTTATAGTTATGCCCGCTATAATCGGGGGGTTCGGAAACTGGCTGATCCCTCTAATAATCGGAGCCCCAGATATGGCATTTCCTCGAATGAACAACATGAGCTTTTGGCTCCTCCCCCCCTCCCTTCTGCTTCTCCTCGCGTCTGCAGGGGTAGAAGCCGGGGCCGGGACTGGCTGAACAGTCTACCCCCCACTAGCCGGTAATCTTGCCCATGCGGGGGCATCCGTGGATCTGACTATTTTCTCCCTCCACCTAGCAGGGGTCTCCTCAATTTTAGGGGCTATCAACTTTATCACCACCATCATTAACATGAAACCCCCAGCTATTTCTCAATACCAGACACCACTCTTCGTCTGAGCAGTATTAATTACTGCCGTCCTCCTGCTTCTTTCCCTCCCAGTCCTTGCTGCAGGGATTACTATACTCCTAACAGACCGGAATCTGAACACCACCTTCTTCGACCCTGCAGGGGGAGGGGATCCAATCCTTTACCAACACTTATTC'</li><li>'CTCTATTTACTATTTGGTGCTTGAGCCGGAATGGTAGGCACTGCTTTGAGCCTACTAATTCGAGCCGAGCTAAATCAACCGGGCAGCCTTCTCGGAGACGACCAGATCTACAATGTTATCGTTACAGCACACGCATTCGTAATAATTTTTTTTATGGTGATGCCCGCCATGATCGGAGGCTTTGGAAATTGATTAGTCCCACTAATAATTGGAGCCCCAGACATAGCATTTCCTCGAATAAATAATATAAGCTTTTGACTCCTGCCCCCTTCTCTTCTTCTTCTCCTTGCTTCCGCCGGGGTAGAGGCCGGAGCTGGAACTGGGTGAACAGTTTACCCGCCCCTAGCTGGCAATCTAGCCCACGCAGGAGCATCCGTAGACCTGACCATCTTCTCCCTCCACCTGGCCGGAATCTCCTCAATTCTAGGGGCTATTAACTTTATCACAACCATTATTAACATAAAACCCCCTGCTATTTCACAATACCAAACTCCACTATTTGTGTGAGCTGTCCTAATTACTGCAGTGCTACTTCTGCTTTCTCTCCCCGTCCTTGCTGCCGGCATCACAATGCTTCTTACAGACCGAAATCTTAATACTACTTTCTTTGACCCTGCAGGAGGGGGAGACCCAATTCTTTACCAGCACTTG'</li><li>'CTCTATTTACTATTCGGTGCTTGAGCTGGAATAGTGGGGACAGCTTTAAGCCTACTAATTCGAGCAGAATTAAATCAACCAGGCAGCCTCCTTGGGGACGACCAAATCTACAATGTTATCGTCACAGCACATGCATTTGTAATAATTTTTTTTATGGTCATACCCGCTATAATTGGGGGGTTCGGAAACTGGCTAATTCCGCTAATAATTGGGGCCCCCGATATGGCATTCCCCCGAATGAACAACATAAGCTTTTGACTCCTTCCCCCCTCCCTTCTCCTTCTCCTAGCATCCGCCGGAGTTGAGGCCGGAGCCGGGACTGGATGAACAGTATATCCTCCCCTAGCCGGCAATCTAGCGCATGCAGGTGCATCAGTAGATTTAACCATCTTCTCTCTCCATTTAGCTGGGGTTTCCTCAATTCTAGGGGCTATTAACTTTATCACAACCATCATCAACATGAAACCTCCCGCCATCTCGCAGTATCAGACACCCCTATTTGTCTGAGCAGTATTAATTACTGCAGTACTGCTACTTCTTTCCCTTCCAGTCCTTGCTGCGGGTATCACAATACTCTTAACAGACCGAAACCTGAACACTACCTTCTTTGACCCCGCATGAGGATGGGATCCGATTCTCTACCAGCACTTA'</li><li>'CCTCTATTTACTATTTGGTGCTTGAGCCGGAATGGTAGGCACTGCTTTGAGCCTACTAATTCGAGCCGAGCTAAATCAACCGGGCAGCCTTCTCGGAGACGACCAGATCTACAATGTTATCGTTACAGCACACGCATTCGTAATAATTTTTTTTATGGTGATGCCCGCCATGATCGGAGGCTTTGGAAATTGATTAGTCCCACTAATAATTGGAGCCCCAGACATAGCATTTCCTCGAATAAATAATATAAGCTTTTGACTCCTGCCCCCTTCTCTTCTTCTTCTCCTTGCTTCCGCCGGGGTAGAGGCCGGAGCTGGAACTGGATGGACAGTTTACCCGCCCCTAGCTGGCAATCTAGCCCACGCAGGAGCATCCGTAGACCTGACCATCTTCTCCCTCCACCTGGCCGGAATCTCCTCAATTCTAGGGGCTATTAACTTTATCACAACCATTATTAACATAAAACCCCCTGCTATTTCACAATACCAAACTCCACTATTTGTGTGAGCTGTCCTAATTACTGCAGTGCTACTTCTGCTTTCTCTCCCCGTCCTTGCTGCCGGCATCACAATGCTTCTTACAGACCGAAATCTTAATACTACTTTCTTTGACCCTGCAGGAGGGGGAGA'</li></ol>\n"
      ],
      "text/latex": [
       "\\begin{enumerate*}\n",
       "\\item 'ATAGTTGGGGGATTCGGGAACTGACTAGTCCCGCTGATAATTGGAGCCCCAGACATGGCATTTCCTCGAATAAACAATATAAGCTTTTGGCTTCTGCCCCCTTCCCTCCTCCTTCTCCTTGCTTCCGCTGGAGTAGAGGCCGGAGCCGGGACTGGATGGACAGTTTACCCNCCCCTGGCCGGCAATTTAGCCCATGCAGGAGCATCCGTAGACTTAACCATTTTCTCCCTTCATCTAGCTGGAATTTCCTCAATTCTTGGGGCCATCAACTTTATTACAACCATTATTAACATGAAACCTCCCGGTATTTCCCAGTGCCAAACCCCGCTANGNGTTTGTATGGGCCGTTCTCATCACCTCATTGGTACTGCAATTCTAAAATCTTTGGCTCTCCCCAAAGTCCTTAAAAGCNGTTNNGACTTTTTGGTCCTCCCNAANCTTGATTGTCTCACN'\n",
       "\\item 'CCTCTATTTACTATTCGGTGCTTGAGCTGGGATAGTGGGAACAGCTTTGAGCCTACTAATTCGAGCAGAGCTAAATCAACCAGGCAGCCTCCTTGGAGATGACCAAATTTATAATGTAATCGTTACAGCACATGCATTTGTAATAATTTTTTTTATAGTAATACCAGCTATAATTGGAGGATTTGGAAACTGGCTAATTCCCTTAATAATCGGGGCCCCAGACATAGCATTCCCACGAATAAATAACATAAGCTTTTGACTCCTTCCCCCCTCCCTCCTACTTCTCCTAGCCTCCGCTGGGGTAGAAGCCGGGGCCGGGACTGGATGAACGGTTTATCCCCCTCTGGCCGGCAATCTAGCCCATGCAGGTGCATCAGTAGATTTAACTATTTTCTCTCTCCACCTGGCAGGGGTTTCATCAATTCTAGGGGCTATTAACTTCATTACTACCATTATTAACATGAAACCTCCCGCCATTTCTCAATATCAAACACCCCTATTTGTTTGAGCAGTATTAATTACCGCAGTTCTGCTCCTTCTTTCCCTCCCAGTCCTCGCTGCGGGGATTACAATACTCCTTACAGACCGAAACCTAAACACCACCTTCTTCGACCCTGCAGGAGGAGGGGACCCCATTCTATACCAACACTTATTC'\n",
       "\\item 'TACTTACTATTTGGTGCTTGGGCTGGGATGGTAGGAACCGCTTTAAGCCTACTAATTCGAGCAGAACTTAATCAGCCAGGGAGCCTCCTAGGAGATGACCAAATTTATAATGTGATCGTAACAGCACATGCATTTGTTATAATTTTCTTTATAGTTATGCCCGCTATAATCGGGGGGTTCGGAAACTGGCTGATCCCTCTAATAATCGGAGCCCCAGATATGGCATTTCCTCGAATGAACAACATGAGCTTTTGGCTCCTCCCCCCCTCCCTTCTGCTTCTCCTCGCGTCTGCAGGGGTAGAAGCCGGGGCCGGGACTGGCTGAACAGTCTACCCCCCACTAGCCGGTAATCTTGCCCATGCGGGGGCATCCGTGGATCTGACTATTTTCTCCCTCCACCTAGCAGGGGTCTCCTCAATTTTAGGGGCTATCAACTTTATCACCACCATCATTAACATGAAACCCCCAGCTATTTCTCAATACCAGACACCACTCTTCGTCTGAGCAGTATTAATTACTGCCGTCCTCCTGCTTCTTTCCCTCCCAGTCCTTGCTGCAGGGATTACTATACTCCTAACAGACCGGAATCTGAACACCACCTTCTTCGACCCTGCAGGGGGAGGGGATCCAATCCTTTACCAACACTTATTC'\n",
       "\\item 'CTCTATTTACTATTTGGTGCTTGAGCCGGAATGGTAGGCACTGCTTTGAGCCTACTAATTCGAGCCGAGCTAAATCAACCGGGCAGCCTTCTCGGAGACGACCAGATCTACAATGTTATCGTTACAGCACACGCATTCGTAATAATTTTTTTTATGGTGATGCCCGCCATGATCGGAGGCTTTGGAAATTGATTAGTCCCACTAATAATTGGAGCCCCAGACATAGCATTTCCTCGAATAAATAATATAAGCTTTTGACTCCTGCCCCCTTCTCTTCTTCTTCTCCTTGCTTCCGCCGGGGTAGAGGCCGGAGCTGGAACTGGGTGAACAGTTTACCCGCCCCTAGCTGGCAATCTAGCCCACGCAGGAGCATCCGTAGACCTGACCATCTTCTCCCTCCACCTGGCCGGAATCTCCTCAATTCTAGGGGCTATTAACTTTATCACAACCATTATTAACATAAAACCCCCTGCTATTTCACAATACCAAACTCCACTATTTGTGTGAGCTGTCCTAATTACTGCAGTGCTACTTCTGCTTTCTCTCCCCGTCCTTGCTGCCGGCATCACAATGCTTCTTACAGACCGAAATCTTAATACTACTTTCTTTGACCCTGCAGGAGGGGGAGACCCAATTCTTTACCAGCACTTG'\n",
       "\\item 'CTCTATTTACTATTCGGTGCTTGAGCTGGAATAGTGGGGACAGCTTTAAGCCTACTAATTCGAGCAGAATTAAATCAACCAGGCAGCCTCCTTGGGGACGACCAAATCTACAATGTTATCGTCACAGCACATGCATTTGTAATAATTTTTTTTATGGTCATACCCGCTATAATTGGGGGGTTCGGAAACTGGCTAATTCCGCTAATAATTGGGGCCCCCGATATGGCATTCCCCCGAATGAACAACATAAGCTTTTGACTCCTTCCCCCCTCCCTTCTCCTTCTCCTAGCATCCGCCGGAGTTGAGGCCGGAGCCGGGACTGGATGAACAGTATATCCTCCCCTAGCCGGCAATCTAGCGCATGCAGGTGCATCAGTAGATTTAACCATCTTCTCTCTCCATTTAGCTGGGGTTTCCTCAATTCTAGGGGCTATTAACTTTATCACAACCATCATCAACATGAAACCTCCCGCCATCTCGCAGTATCAGACACCCCTATTTGTCTGAGCAGTATTAATTACTGCAGTACTGCTACTTCTTTCCCTTCCAGTCCTTGCTGCGGGTATCACAATACTCTTAACAGACCGAAACCTGAACACTACCTTCTTTGACCCCGCATGAGGATGGGATCCGATTCTCTACCAGCACTTA'\n",
       "\\item 'CCTCTATTTACTATTTGGTGCTTGAGCCGGAATGGTAGGCACTGCTTTGAGCCTACTAATTCGAGCCGAGCTAAATCAACCGGGCAGCCTTCTCGGAGACGACCAGATCTACAATGTTATCGTTACAGCACACGCATTCGTAATAATTTTTTTTATGGTGATGCCCGCCATGATCGGAGGCTTTGGAAATTGATTAGTCCCACTAATAATTGGAGCCCCAGACATAGCATTTCCTCGAATAAATAATATAAGCTTTTGACTCCTGCCCCCTTCTCTTCTTCTTCTCCTTGCTTCCGCCGGGGTAGAGGCCGGAGCTGGAACTGGATGGACAGTTTACCCGCCCCTAGCTGGCAATCTAGCCCACGCAGGAGCATCCGTAGACCTGACCATCTTCTCCCTCCACCTGGCCGGAATCTCCTCAATTCTAGGGGCTATTAACTTTATCACAACCATTATTAACATAAAACCCCCTGCTATTTCACAATACCAAACTCCACTATTTGTGTGAGCTGTCCTAATTACTGCAGTGCTACTTCTGCTTTCTCTCCCCGTCCTTGCTGCCGGCATCACAATGCTTCTTACAGACCGAAATCTTAATACTACTTTCTTTGACCCTGCAGGAGGGGGAGA'\n",
       "\\end{enumerate*}\n"
      ],
      "text/markdown": [
       "1. 'ATAGTTGGGGGATTCGGGAACTGACTAGTCCCGCTGATAATTGGAGCCCCAGACATGGCATTTCCTCGAATAAACAATATAAGCTTTTGGCTTCTGCCCCCTTCCCTCCTCCTTCTCCTTGCTTCCGCTGGAGTAGAGGCCGGAGCCGGGACTGGATGGACAGTTTACCCNCCCCTGGCCGGCAATTTAGCCCATGCAGGAGCATCCGTAGACTTAACCATTTTCTCCCTTCATCTAGCTGGAATTTCCTCAATTCTTGGGGCCATCAACTTTATTACAACCATTATTAACATGAAACCTCCCGGTATTTCCCAGTGCCAAACCCCGCTANGNGTTTGTATGGGCCGTTCTCATCACCTCATTGGTACTGCAATTCTAAAATCTTTGGCTCTCCCCAAAGTCCTTAAAAGCNGTTNNGACTTTTTGGTCCTCCCNAANCTTGATTGTCTCACN'\n",
       "2. 'CCTCTATTTACTATTCGGTGCTTGAGCTGGGATAGTGGGAACAGCTTTGAGCCTACTAATTCGAGCAGAGCTAAATCAACCAGGCAGCCTCCTTGGAGATGACCAAATTTATAATGTAATCGTTACAGCACATGCATTTGTAATAATTTTTTTTATAGTAATACCAGCTATAATTGGAGGATTTGGAAACTGGCTAATTCCCTTAATAATCGGGGCCCCAGACATAGCATTCCCACGAATAAATAACATAAGCTTTTGACTCCTTCCCCCCTCCCTCCTACTTCTCCTAGCCTCCGCTGGGGTAGAAGCCGGGGCCGGGACTGGATGAACGGTTTATCCCCCTCTGGCCGGCAATCTAGCCCATGCAGGTGCATCAGTAGATTTAACTATTTTCTCTCTCCACCTGGCAGGGGTTTCATCAATTCTAGGGGCTATTAACTTCATTACTACCATTATTAACATGAAACCTCCCGCCATTTCTCAATATCAAACACCCCTATTTGTTTGAGCAGTATTAATTACCGCAGTTCTGCTCCTTCTTTCCCTCCCAGTCCTCGCTGCGGGGATTACAATACTCCTTACAGACCGAAACCTAAACACCACCTTCTTCGACCCTGCAGGAGGAGGGGACCCCATTCTATACCAACACTTATTC'\n",
       "3. 'TACTTACTATTTGGTGCTTGGGCTGGGATGGTAGGAACCGCTTTAAGCCTACTAATTCGAGCAGAACTTAATCAGCCAGGGAGCCTCCTAGGAGATGACCAAATTTATAATGTGATCGTAACAGCACATGCATTTGTTATAATTTTCTTTATAGTTATGCCCGCTATAATCGGGGGGTTCGGAAACTGGCTGATCCCTCTAATAATCGGAGCCCCAGATATGGCATTTCCTCGAATGAACAACATGAGCTTTTGGCTCCTCCCCCCCTCCCTTCTGCTTCTCCTCGCGTCTGCAGGGGTAGAAGCCGGGGCCGGGACTGGCTGAACAGTCTACCCCCCACTAGCCGGTAATCTTGCCCATGCGGGGGCATCCGTGGATCTGACTATTTTCTCCCTCCACCTAGCAGGGGTCTCCTCAATTTTAGGGGCTATCAACTTTATCACCACCATCATTAACATGAAACCCCCAGCTATTTCTCAATACCAGACACCACTCTTCGTCTGAGCAGTATTAATTACTGCCGTCCTCCTGCTTCTTTCCCTCCCAGTCCTTGCTGCAGGGATTACTATACTCCTAACAGACCGGAATCTGAACACCACCTTCTTCGACCCTGCAGGGGGAGGGGATCCAATCCTTTACCAACACTTATTC'\n",
       "4. 'CTCTATTTACTATTTGGTGCTTGAGCCGGAATGGTAGGCACTGCTTTGAGCCTACTAATTCGAGCCGAGCTAAATCAACCGGGCAGCCTTCTCGGAGACGACCAGATCTACAATGTTATCGTTACAGCACACGCATTCGTAATAATTTTTTTTATGGTGATGCCCGCCATGATCGGAGGCTTTGGAAATTGATTAGTCCCACTAATAATTGGAGCCCCAGACATAGCATTTCCTCGAATAAATAATATAAGCTTTTGACTCCTGCCCCCTTCTCTTCTTCTTCTCCTTGCTTCCGCCGGGGTAGAGGCCGGAGCTGGAACTGGGTGAACAGTTTACCCGCCCCTAGCTGGCAATCTAGCCCACGCAGGAGCATCCGTAGACCTGACCATCTTCTCCCTCCACCTGGCCGGAATCTCCTCAATTCTAGGGGCTATTAACTTTATCACAACCATTATTAACATAAAACCCCCTGCTATTTCACAATACCAAACTCCACTATTTGTGTGAGCTGTCCTAATTACTGCAGTGCTACTTCTGCTTTCTCTCCCCGTCCTTGCTGCCGGCATCACAATGCTTCTTACAGACCGAAATCTTAATACTACTTTCTTTGACCCTGCAGGAGGGGGAGACCCAATTCTTTACCAGCACTTG'\n",
       "5. 'CTCTATTTACTATTCGGTGCTTGAGCTGGAATAGTGGGGACAGCTTTAAGCCTACTAATTCGAGCAGAATTAAATCAACCAGGCAGCCTCCTTGGGGACGACCAAATCTACAATGTTATCGTCACAGCACATGCATTTGTAATAATTTTTTTTATGGTCATACCCGCTATAATTGGGGGGTTCGGAAACTGGCTAATTCCGCTAATAATTGGGGCCCCCGATATGGCATTCCCCCGAATGAACAACATAAGCTTTTGACTCCTTCCCCCCTCCCTTCTCCTTCTCCTAGCATCCGCCGGAGTTGAGGCCGGAGCCGGGACTGGATGAACAGTATATCCTCCCCTAGCCGGCAATCTAGCGCATGCAGGTGCATCAGTAGATTTAACCATCTTCTCTCTCCATTTAGCTGGGGTTTCCTCAATTCTAGGGGCTATTAACTTTATCACAACCATCATCAACATGAAACCTCCCGCCATCTCGCAGTATCAGACACCCCTATTTGTCTGAGCAGTATTAATTACTGCAGTACTGCTACTTCTTTCCCTTCCAGTCCTTGCTGCGGGTATCACAATACTCTTAACAGACCGAAACCTGAACACTACCTTCTTTGACCCCGCATGAGGATGGGATCCGATTCTCTACCAGCACTTA'\n",
       "6. 'CCTCTATTTACTATTTGGTGCTTGAGCCGGAATGGTAGGCACTGCTTTGAGCCTACTAATTCGAGCCGAGCTAAATCAACCGGGCAGCCTTCTCGGAGACGACCAGATCTACAATGTTATCGTTACAGCACACGCATTCGTAATAATTTTTTTTATGGTGATGCCCGCCATGATCGGAGGCTTTGGAAATTGATTAGTCCCACTAATAATTGGAGCCCCAGACATAGCATTTCCTCGAATAAATAATATAAGCTTTTGACTCCTGCCCCCTTCTCTTCTTCTTCTCCTTGCTTCCGCCGGGGTAGAGGCCGGAGCTGGAACTGGATGGACAGTTTACCCGCCCCTAGCTGGCAATCTAGCCCACGCAGGAGCATCCGTAGACCTGACCATCTTCTCCCTCCACCTGGCCGGAATCTCCTCAATTCTAGGGGCTATTAACTTTATCACAACCATTATTAACATAAAACCCCCTGCTATTTCACAATACCAAACTCCACTATTTGTGTGAGCTGTCCTAATTACTGCAGTGCTACTTCTGCTTTCTCTCCCCGTCCTTGCTGCCGGCATCACAATGCTTCTTACAGACCGAAATCTTAATACTACTTTCTTTGACCCTGCAGGAGGGGGAGA'\n",
       "\n",
       "\n"
      ],
      "text/plain": [
       "[1] \"ATAGTTGGGGGATTCGGGAACTGACTAGTCCCGCTGATAATTGGAGCCCCAGACATGGCATTTCCTCGAATAAACAATATAAGCTTTTGGCTTCTGCCCCCTTCCCTCCTCCTTCTCCTTGCTTCCGCTGGAGTAGAGGCCGGAGCCGGGACTGGATGGACAGTTTACCCNCCCCTGGCCGGCAATTTAGCCCATGCAGGAGCATCCGTAGACTTAACCATTTTCTCCCTTCATCTAGCTGGAATTTCCTCAATTCTTGGGGCCATCAACTTTATTACAACCATTATTAACATGAAACCTCCCGGTATTTCCCAGTGCCAAACCCCGCTANGNGTTTGTATGGGCCGTTCTCATCACCTCATTGGTACTGCAATTCTAAAATCTTTGGCTCTCCCCAAAGTCCTTAAAAGCNGTTNNGACTTTTTGGTCCTCCCNAANCTTGATTGTCTCACN\"                                                                                                                                                                                                          \n",
       "[2] \"CCTCTATTTACTATTCGGTGCTTGAGCTGGGATAGTGGGAACAGCTTTGAGCCTACTAATTCGAGCAGAGCTAAATCAACCAGGCAGCCTCCTTGGAGATGACCAAATTTATAATGTAATCGTTACAGCACATGCATTTGTAATAATTTTTTTTATAGTAATACCAGCTATAATTGGAGGATTTGGAAACTGGCTAATTCCCTTAATAATCGGGGCCCCAGACATAGCATTCCCACGAATAAATAACATAAGCTTTTGACTCCTTCCCCCCTCCCTCCTACTTCTCCTAGCCTCCGCTGGGGTAGAAGCCGGGGCCGGGACTGGATGAACGGTTTATCCCCCTCTGGCCGGCAATCTAGCCCATGCAGGTGCATCAGTAGATTTAACTATTTTCTCTCTCCACCTGGCAGGGGTTTCATCAATTCTAGGGGCTATTAACTTCATTACTACCATTATTAACATGAAACCTCCCGCCATTTCTCAATATCAAACACCCCTATTTGTTTGAGCAGTATTAATTACCGCAGTTCTGCTCCTTCTTTCCCTCCCAGTCCTCGCTGCGGGGATTACAATACTCCTTACAGACCGAAACCTAAACACCACCTTCTTCGACCCTGCAGGAGGAGGGGACCCCATTCTATACCAACACTTATTC\"\n",
       "[3] \"TACTTACTATTTGGTGCTTGGGCTGGGATGGTAGGAACCGCTTTAAGCCTACTAATTCGAGCAGAACTTAATCAGCCAGGGAGCCTCCTAGGAGATGACCAAATTTATAATGTGATCGTAACAGCACATGCATTTGTTATAATTTTCTTTATAGTTATGCCCGCTATAATCGGGGGGTTCGGAAACTGGCTGATCCCTCTAATAATCGGAGCCCCAGATATGGCATTTCCTCGAATGAACAACATGAGCTTTTGGCTCCTCCCCCCCTCCCTTCTGCTTCTCCTCGCGTCTGCAGGGGTAGAAGCCGGGGCCGGGACTGGCTGAACAGTCTACCCCCCACTAGCCGGTAATCTTGCCCATGCGGGGGCATCCGTGGATCTGACTATTTTCTCCCTCCACCTAGCAGGGGTCTCCTCAATTTTAGGGGCTATCAACTTTATCACCACCATCATTAACATGAAACCCCCAGCTATTTCTCAATACCAGACACCACTCTTCGTCTGAGCAGTATTAATTACTGCCGTCCTCCTGCTTCTTTCCCTCCCAGTCCTTGCTGCAGGGATTACTATACTCCTAACAGACCGGAATCTGAACACCACCTTCTTCGACCCTGCAGGGGGAGGGGATCCAATCCTTTACCAACACTTATTC\"    \n",
       "[4] \"CTCTATTTACTATTTGGTGCTTGAGCCGGAATGGTAGGCACTGCTTTGAGCCTACTAATTCGAGCCGAGCTAAATCAACCGGGCAGCCTTCTCGGAGACGACCAGATCTACAATGTTATCGTTACAGCACACGCATTCGTAATAATTTTTTTTATGGTGATGCCCGCCATGATCGGAGGCTTTGGAAATTGATTAGTCCCACTAATAATTGGAGCCCCAGACATAGCATTTCCTCGAATAAATAATATAAGCTTTTGACTCCTGCCCCCTTCTCTTCTTCTTCTCCTTGCTTCCGCCGGGGTAGAGGCCGGAGCTGGAACTGGGTGAACAGTTTACCCGCCCCTAGCTGGCAATCTAGCCCACGCAGGAGCATCCGTAGACCTGACCATCTTCTCCCTCCACCTGGCCGGAATCTCCTCAATTCTAGGGGCTATTAACTTTATCACAACCATTATTAACATAAAACCCCCTGCTATTTCACAATACCAAACTCCACTATTTGTGTGAGCTGTCCTAATTACTGCAGTGCTACTTCTGCTTTCTCTCCCCGTCCTTGCTGCCGGCATCACAATGCTTCTTACAGACCGAAATCTTAATACTACTTTCTTTGACCCTGCAGGAGGGGGAGACCCAATTCTTTACCAGCACTTG\"    \n",
       "[5] \"CTCTATTTACTATTCGGTGCTTGAGCTGGAATAGTGGGGACAGCTTTAAGCCTACTAATTCGAGCAGAATTAAATCAACCAGGCAGCCTCCTTGGGGACGACCAAATCTACAATGTTATCGTCACAGCACATGCATTTGTAATAATTTTTTTTATGGTCATACCCGCTATAATTGGGGGGTTCGGAAACTGGCTAATTCCGCTAATAATTGGGGCCCCCGATATGGCATTCCCCCGAATGAACAACATAAGCTTTTGACTCCTTCCCCCCTCCCTTCTCCTTCTCCTAGCATCCGCCGGAGTTGAGGCCGGAGCCGGGACTGGATGAACAGTATATCCTCCCCTAGCCGGCAATCTAGCGCATGCAGGTGCATCAGTAGATTTAACCATCTTCTCTCTCCATTTAGCTGGGGTTTCCTCAATTCTAGGGGCTATTAACTTTATCACAACCATCATCAACATGAAACCTCCCGCCATCTCGCAGTATCAGACACCCCTATTTGTCTGAGCAGTATTAATTACTGCAGTACTGCTACTTCTTTCCCTTCCAGTCCTTGCTGCGGGTATCACAATACTCTTAACAGACCGAAACCTGAACACTACCTTCTTTGACCCCGCATGAGGATGGGATCCGATTCTCTACCAGCACTTA\"    \n",
       "[6] \"CCTCTATTTACTATTTGGTGCTTGAGCCGGAATGGTAGGCACTGCTTTGAGCCTACTAATTCGAGCCGAGCTAAATCAACCGGGCAGCCTTCTCGGAGACGACCAGATCTACAATGTTATCGTTACAGCACACGCATTCGTAATAATTTTTTTTATGGTGATGCCCGCCATGATCGGAGGCTTTGGAAATTGATTAGTCCCACTAATAATTGGAGCCCCAGACATAGCATTTCCTCGAATAAATAATATAAGCTTTTGACTCCTGCCCCCTTCTCTTCTTCTTCTCCTTGCTTCCGCCGGGGTAGAGGCCGGAGCTGGAACTGGATGGACAGTTTACCCGCCCCTAGCTGGCAATCTAGCCCACGCAGGAGCATCCGTAGACCTGACCATCTTCTCCCTCCACCTGGCCGGAATCTCCTCAATTCTAGGGGCTATTAACTTTATCACAACCATTATTAACATAAAACCCCCTGCTATTTCACAATACCAAACTCCACTATTTGTGTGAGCTGTCCTAATTACTGCAGTGCTACTTCTGCTTTCTCTCCCCGTCCTTGCTGCCGGCATCACAATGCTTCTTACAGACCGAAATCTTAATACTACTTTCTTTGACCCTGCAGGAGGGGGAGA\"                         "
      ]
     },
     "metadata": {},
     "output_type": "display_data"
    }
   ],
   "source": [
    "## check number of remaining individuals after curation\n",
    "dim(prparedResBold)\n",
    "## check DNA sequence new field\n",
    "head(prparedResBold$sequence)"
   ]
  },
  {
   "cell_type": "markdown",
   "metadata": {},
   "source": [
    "We can see that only 399/1049 individuals are kept. Also, a new field `sequence` is available for each individual. DNA sequences are now stored as string object."
   ]
  },
  {
   "cell_type": "markdown",
   "metadata": {},
   "source": [
    "## 2. Validate species names with fishbase\n",
    "\n",
    "As we work on fishes and later with Reef Life Survey dataset, we search for synonyms into fishbase to validate species names from the BOLD dataset.\n",
    "\n",
    "The function `fishbase_name_species_bold` checks `species_name` field and seek for `fishbase` synonyms. Then it  adds a new field `fishbase_species_name`."
   ]
  },
  {
   "cell_type": "code",
   "execution_count": 19,
   "metadata": {},
   "outputs": [],
   "source": [
    "## validate species names\n",
    "prparedResBold.fishbaseValid <- fishbase_name_species_bold(prparedResBold)"
   ]
  },
  {
   "cell_type": "code",
   "execution_count": 33,
   "metadata": {},
   "outputs": [
    {
     "data": {
      "text/html": [
       "<style>\n",
       ".list-inline {list-style: none; margin:0; padding: 0}\n",
       ".list-inline>li {display: inline-block}\n",
       ".list-inline>li:not(:last-child)::after {content: \"\\00b7\"; padding: 0 .5ex}\n",
       "</style>\n",
       "<ol class=list-inline><li>'Pomacanthus annularis'</li><li>'Centropyge nigriocella'</li><li>'Centropyge heraldi'</li><li>'Pomacanthus paru'</li><li>'Holacanthus ciliaris'</li><li>'Pomacanthus paru'</li></ol>\n"
      ],
      "text/latex": [
       "\\begin{enumerate*}\n",
       "\\item 'Pomacanthus annularis'\n",
       "\\item 'Centropyge nigriocella'\n",
       "\\item 'Centropyge heraldi'\n",
       "\\item 'Pomacanthus paru'\n",
       "\\item 'Holacanthus ciliaris'\n",
       "\\item 'Pomacanthus paru'\n",
       "\\end{enumerate*}\n"
      ],
      "text/markdown": [
       "1. 'Pomacanthus annularis'\n",
       "2. 'Centropyge nigriocella'\n",
       "3. 'Centropyge heraldi'\n",
       "4. 'Pomacanthus paru'\n",
       "5. 'Holacanthus ciliaris'\n",
       "6. 'Pomacanthus paru'\n",
       "\n",
       "\n"
      ],
      "text/plain": [
       "[1] \"Pomacanthus annularis\"  \"Centropyge nigriocella\" \"Centropyge heraldi\"    \n",
       "[4] \"Pomacanthus paru\"       \"Holacanthus ciliaris\"   \"Pomacanthus paru\"      "
      ]
     },
     "metadata": {},
     "output_type": "display_data"
    },
    {
     "data": {
      "text/html": [
       "<style>\n",
       ".list-inline {list-style: none; margin:0; padding: 0}\n",
       ".list-inline>li {display: inline-block}\n",
       ".list-inline>li:not(:last-child)::after {content: \"\\00b7\"; padding: 0 .5ex}\n",
       "</style>\n",
       "<ol class=list-inline><li>'Pomacanthus annularis'</li><li>'Centropyge nigriocella'</li><li>'Centropyge heraldi'</li><li>'Pomacanthus paru'</li><li>'Holacanthus ciliaris'</li><li>'Pomacanthus paru'</li></ol>\n"
      ],
      "text/latex": [
       "\\begin{enumerate*}\n",
       "\\item 'Pomacanthus annularis'\n",
       "\\item 'Centropyge nigriocella'\n",
       "\\item 'Centropyge heraldi'\n",
       "\\item 'Pomacanthus paru'\n",
       "\\item 'Holacanthus ciliaris'\n",
       "\\item 'Pomacanthus paru'\n",
       "\\end{enumerate*}\n"
      ],
      "text/markdown": [
       "1. 'Pomacanthus annularis'\n",
       "2. 'Centropyge nigriocella'\n",
       "3. 'Centropyge heraldi'\n",
       "4. 'Pomacanthus paru'\n",
       "5. 'Holacanthus ciliaris'\n",
       "6. 'Pomacanthus paru'\n",
       "\n",
       "\n"
      ],
      "text/plain": [
       "[1] \"Pomacanthus annularis\"  \"Centropyge nigriocella\" \"Centropyge heraldi\"    \n",
       "[4] \"Pomacanthus paru\"       \"Holacanthus ciliaris\"   \"Pomacanthus paru\"      "
      ]
     },
     "metadata": {},
     "output_type": "display_data"
    },
    {
     "data": {
      "text/html": [
       "0"
      ],
      "text/latex": [
       "0"
      ],
      "text/markdown": [
       "0"
      ],
      "text/plain": [
       "[1] 0"
      ]
     },
     "metadata": {},
     "output_type": "display_data"
    }
   ],
   "source": [
    "## display BOLD species names\n",
    "head(prparedResBold.fishbaseValid$species_name)\n",
    "## display fishbase species names new field\n",
    "head(prparedResBold.fishbaseValid$fishbase_species_name)\n",
    "## number of BOLD species names which are not found in fishbase database\n",
    "length(which(is.na(prparedResBold.fishbaseValid$fishbase_species_name)))\n"
   ]
  },
  {
   "cell_type": "markdown",
   "metadata": {},
   "source": [
    "They are not missing species names in fishbase (but it occurs in larger dataset). We notice that most of the species names are the same in both BOLD and fishbase."
   ]
  },
  {
   "cell_type": "markdown",
   "metadata": {},
   "source": [
    "## 3. Cross BOLD dataset with Reef Life Survey dataset\n",
    "\n",
    "As we work on Reef Life Survey dataset, we want to keep only species which are described in Reef Life Survey. The function `select_reefish_species`:\n",
    "\n",
    "1. selects sequences and fishbase-validated species name from BOLD which are in Reef Life Survey database. \n",
    "2. keeps species with a minimum number of individuals sequences"
   ]
  },
  {
   "cell_type": "code",
   "execution_count": 37,
   "metadata": {},
   "outputs": [],
   "source": [
    "reefishBold <- select_reefish_species(prparedResBold.fishbaseValid,\n",
    "                                      reefishSurveySpecies,\n",
    "                                      countSequencesbySpeciesThreshold=2\n",
    "                                     ) "
   ]
  },
  {
   "cell_type": "code",
   "execution_count": 38,
   "metadata": {},
   "outputs": [
    {
     "data": {
      "text/html": [
       "<style>\n",
       ".list-inline {list-style: none; margin:0; padding: 0}\n",
       ".list-inline>li {display: inline-block}\n",
       ".list-inline>li:not(:last-child)::after {content: \"\\00b7\"; padding: 0 .5ex}\n",
       "</style>\n",
       "<ol class=list-inline><li>284</li><li>81</li></ol>\n"
      ],
      "text/latex": [
       "\\begin{enumerate*}\n",
       "\\item 284\n",
       "\\item 81\n",
       "\\end{enumerate*}\n"
      ],
      "text/markdown": [
       "1. 284\n",
       "2. 81\n",
       "\n",
       "\n"
      ],
      "text/plain": [
       "[1] 284  81"
      ]
     },
     "metadata": {},
     "output_type": "display_data"
    }
   ],
   "source": [
    "## check number of individuals with species both in BOLD and Reef Life Survey and at least 3 sequences per species\n",
    "dim(reefishBold)"
   ]
  },
  {
   "cell_type": "markdown",
   "metadata": {},
   "source": [
    "284/399 individuals are kept and can be used in Reef Life Survey."
   ]
  },
  {
   "cell_type": "code",
   "execution_count": null,
   "metadata": {},
   "outputs": [],
   "source": []
  }
 ],
 "metadata": {
  "kernelspec": {
   "display_name": "R",
   "language": "R",
   "name": "ir"
  },
  "language_info": {
   "codemirror_mode": "r",
   "file_extension": ".r",
   "mimetype": "text/x-r-source",
   "name": "R",
   "pygments_lexer": "r",
   "version": "3.6.3"
  }
 },
 "nbformat": 4,
 "nbformat_minor": 4
}
